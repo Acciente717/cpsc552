{
 "cells": [
  {
   "cell_type": "code",
   "execution_count": null,
   "id": "367e67b1",
   "metadata": {},
   "outputs": [],
   "source": [
    "from PathPlanningEnv import PathPlanningEnv\n",
    "from FCNN import FCNN\n",
    "from run import TrainMemorize, TrainQlearning, PlayOnce, TrainQlearningMultiple, TrainQlearningMultipleReverse\n",
    "from utility import MovingAveragePlot, VectorFieldPlot\n",
    "import settings\n",
    "from matplotlib import pyplot as plt\n",
    "from Q_Network import Q_Network\n",
    "import time\n",
    "import random"
   ]
  },
  {
   "cell_type": "code",
   "execution_count": null,
   "id": "03bce159",
   "metadata": {
    "tags": []
   },
   "outputs": [],
   "source": [
    "model_settings = {\n",
    "    'height' : 10,\n",
    "    'width' : 10,\n",
    "    'obs_count' : 10,\n",
    "    'random_seed' : 42\n",
    "}\n",
    "\n",
    "env = PathPlanningEnv(**model_settings)\n",
    "env.display()\n",
    "print(env.distances)"
   ]
  },
  {
   "cell_type": "code",
   "execution_count": null,
   "id": "4e92a545",
   "metadata": {},
   "outputs": [],
   "source": [
    "input_dim = 3 * model_settings['height'] * model_settings['width'] + 4\n",
    "network_fcnn = FCNN(input_dim)"
   ]
  },
  {
   "cell_type": "code",
   "execution_count": null,
   "id": "f965967d",
   "metadata": {
    "tags": []
   },
   "outputs": [],
   "source": [
    "config = settings.Config()\n",
    "start_time = time.time()\n",
    "rewards, losses = TrainMemorize(network_fcnn, env, config)\n",
    "end_time = time.time()\n",
    "print('Training time: %d seconds' % (end_time - start_time))"
   ]
  },
  {
   "cell_type": "code",
   "execution_count": null,
   "id": "db47cc1c",
   "metadata": {},
   "outputs": [],
   "source": [
    "MovingAveragePlot(rewards, 100)"
   ]
  },
  {
   "cell_type": "code",
   "execution_count": null,
   "id": "c91d3baa",
   "metadata": {},
   "outputs": [],
   "source": [
    "print(env.foot_prints)"
   ]
  },
  {
   "cell_type": "code",
   "execution_count": null,
   "id": "b9ecf6ec",
   "metadata": {},
   "outputs": [],
   "source": [
    "PlayOnce(network_fcnn, env, config)"
   ]
  },
  {
   "cell_type": "code",
   "execution_count": null,
   "id": "41942bd1",
   "metadata": {},
   "outputs": [],
   "source": [
    "env = PathPlanningEnv(\n",
    "    grid = env.grid[2,:,:],\n",
    "    init_row = 4,\n",
    "    init_col = 9,\n",
    "    goal_row = env.goal_row,\n",
    "    goal_col = env.goal_col\n",
    ")\n",
    "PlayOnce(network_fcnn, env, config)"
   ]
  },
  {
   "cell_type": "code",
   "execution_count": null,
   "id": "ac0fc095",
   "metadata": {},
   "outputs": [],
   "source": [
    "env = PathPlanningEnv(\n",
    "    grid = env.grid[2,:,:],\n",
    "    init_row = 1,\n",
    "    init_col = 9,\n",
    "    goal_row = env.goal_row,\n",
    "    goal_col = env.goal_col\n",
    ")\n",
    "PlayOnce(network_fcnn, env, config)"
   ]
  },
  {
   "cell_type": "code",
   "execution_count": null,
   "id": "611fd653",
   "metadata": {},
   "outputs": [],
   "source": [
    "env = PathPlanningEnv(\n",
    "    grid = env.grid[2,:,:],\n",
    "    init_row = 0,\n",
    "    init_col = 5,\n",
    "    goal_row = env.goal_row,\n",
    "    goal_col = env.goal_col\n",
    ")\n",
    "PlayOnce(network_fcnn, env, config)"
   ]
  },
  {
   "cell_type": "code",
   "execution_count": null,
   "id": "c26603c5",
   "metadata": {},
   "outputs": [],
   "source": [
    "env = PathPlanningEnv(\n",
    "    grid = env.grid[2,:,:],\n",
    "    init_row = 1,\n",
    "    init_col = 0,\n",
    "    goal_row = env.goal_row,\n",
    "    goal_col = env.goal_col\n",
    ")\n",
    "PlayOnce(network_fcnn, env, config)"
   ]
  },
  {
   "cell_type": "code",
   "execution_count": null,
   "id": "1cc60eb4",
   "metadata": {},
   "outputs": [],
   "source": [
    "VectorFieldPlot(network_fcnn, env, model_settings['width'], model_settings['height'])"
   ]
  },
  {
   "cell_type": "markdown",
   "id": "c1e837fd",
   "metadata": {},
   "source": [
    "## Q-learning"
   ]
  },
  {
   "cell_type": "code",
   "execution_count": null,
   "id": "c9d81490",
   "metadata": {
    "tags": []
   },
   "outputs": [],
   "source": [
    "model_settings = {\n",
    "    'height' : 10,\n",
    "    'width' : 10,\n",
    "    'obs_count' : 10,\n",
    "    'random_seed' : 42\n",
    "}\n",
    "\n",
    "env = PathPlanningEnv(**model_settings)\n",
    "env.display()\n",
    "print(env.distances)"
   ]
  },
  {
   "cell_type": "code",
   "execution_count": null,
   "id": "ecfe40f8",
   "metadata": {},
   "outputs": [],
   "source": [
    "input_dim = 3 * model_settings['height'] * model_settings['width'] + 4\n",
    "network_fcnn = FCNN(input_dim)"
   ]
  },
  {
   "cell_type": "code",
   "execution_count": null,
   "id": "5335e258",
   "metadata": {
    "tags": []
   },
   "outputs": [],
   "source": [
    "config = settings.Config(epsilon=0.9, epsilon_low=0.1, epsilon_step=0.05, max_play_length=500, epochs=2000, gamma=0.99, random_reset=False)\n",
    "start_time = time.time()\n",
    "rewards, losses, traces = TrainQlearning(network_fcnn, env, config, trace_step = 10)\n",
    "end_time = time.time()\n",
    "print('Training time: %d seconds' % (end_time - start_time))"
   ]
  },
  {
   "cell_type": "code",
   "execution_count": null,
   "id": "272958cb",
   "metadata": {},
   "outputs": [],
   "source": [
    "MovingAveragePlot(rewards, 100)"
   ]
  },
  {
   "cell_type": "code",
   "execution_count": null,
   "id": "7f36fdba",
   "metadata": {},
   "outputs": [],
   "source": [
    "print(env.foot_prints)"
   ]
  },
  {
   "cell_type": "code",
   "execution_count": null,
   "id": "89c1dc1b",
   "metadata": {},
   "outputs": [],
   "source": [
    "PlayOnce(network_fcnn, env, config)"
   ]
  },
  {
   "cell_type": "code",
   "execution_count": null,
   "id": "a5032c74",
   "metadata": {
    "tags": []
   },
   "outputs": [],
   "source": [
    "with open(\"traces.txt\", \"w+\") as f:\n",
    "    count = 1\n",
    "    for trace in traces:\n",
    "        f.write(str(count*10))\n",
    "        f.write(\"  \")\n",
    "        f.write(str(len(trace)))\n",
    "        f.write(\"  \")\n",
    "        f.write(str(trace))\n",
    "        f.write(\"\\n\")\n",
    "        count += 1"
   ]
  },
  {
   "cell_type": "code",
   "execution_count": null,
   "id": "67b26b09",
   "metadata": {},
   "outputs": [],
   "source": [
    "import matplotlib.pyplot as plt\n",
    "\n",
    "trace = traces[190]\n",
    "\n",
    "row = [10 - x[0] for x in trace]\n",
    "col = [x[1] for x in trace]\n",
    "\n",
    "plt.xlim([-1, 10])\n",
    "plt.ylim([0, 11])\n",
    "plt.plot(col,row)\n",
    "plt.plot(col,row,'or')\n",
    "plt.show()"
   ]
  },
  {
   "cell_type": "code",
   "execution_count": null,
   "id": "89ce073f",
   "metadata": {},
   "outputs": [],
   "source": [
    "env = PathPlanningEnv(\n",
    "    grid = env.grid[2,:,:],\n",
    "    init_row = 4,\n",
    "    init_col = 9,\n",
    "    goal_row = env.goal_row,\n",
    "    goal_col = env.goal_col\n",
    ")\n",
    "PlayOnce(network_fcnn, env, config)"
   ]
  },
  {
   "cell_type": "code",
   "execution_count": null,
   "id": "0f3710f0",
   "metadata": {
    "tags": []
   },
   "outputs": [],
   "source": [
    "env = PathPlanningEnv(\n",
    "    grid = env.grid[2,:,:],\n",
    "    init_row = 1,\n",
    "    init_col = 9,\n",
    "    goal_row = env.goal_row,\n",
    "    goal_col = env.goal_col\n",
    ")\n",
    "PlayOnce(network_fcnn, env, config)"
   ]
  },
  {
   "cell_type": "code",
   "execution_count": null,
   "id": "cd4c8954",
   "metadata": {
    "tags": []
   },
   "outputs": [],
   "source": [
    "env = PathPlanningEnv(\n",
    "    grid = env.grid[2,:,:],\n",
    "    init_row = 0,\n",
    "    init_col = 5,\n",
    "    goal_row = env.goal_row,\n",
    "    goal_col = env.goal_col\n",
    ")\n",
    "PlayOnce(network_fcnn, env, config)"
   ]
  },
  {
   "cell_type": "code",
   "execution_count": null,
   "id": "01b68f9b",
   "metadata": {
    "tags": []
   },
   "outputs": [],
   "source": [
    "env = PathPlanningEnv(\n",
    "    grid = env.grid[2,:,:],\n",
    "    init_row = 1,\n",
    "    init_col = 0,\n",
    "    goal_row = env.goal_row,\n",
    "    goal_col = env.goal_col\n",
    ")\n",
    "PlayOnce(network_fcnn, env, config)"
   ]
  },
  {
   "cell_type": "code",
   "execution_count": null,
   "id": "f44f6f67",
   "metadata": {},
   "outputs": [],
   "source": [
    "VectorFieldPlot(network_fcnn, env, model_settings['width'], model_settings['height'])"
   ]
  },
  {
   "cell_type": "markdown",
   "id": "0f7f9f0c",
   "metadata": {},
   "source": [
    "## Q-learning with CNN"
   ]
  },
  {
   "cell_type": "code",
   "execution_count": null,
   "id": "73589ed5",
   "metadata": {
    "tags": []
   },
   "outputs": [],
   "source": [
    "model_settings = {\n",
    "    'height' : 10,\n",
    "    'width' : 10,\n",
    "    'obs_count' : 10,\n",
    "    'random_seed' : 42\n",
    "}\n",
    "\n",
    "env = PathPlanningEnv(**model_settings)\n",
    "env.display()\n",
    "print(env.distances)"
   ]
  },
  {
   "cell_type": "code",
   "execution_count": null,
   "id": "80681c0a",
   "metadata": {},
   "outputs": [],
   "source": [
    "network_cnn = Q_Network(\n",
    "    BatchSize = 1,\n",
    "    MapHeight = model_settings['height'],\n",
    "    MapWidth = model_settings['width'],\n",
    "    Covn1OutChan = 8,\n",
    "    Conv1Kernel = 3,\n",
    "    Covn2OutChan = 8,\n",
    "    Conv2Kernel = 3,\n",
    "    HiddenSize = 64\n",
    ")"
   ]
  },
  {
   "cell_type": "code",
   "execution_count": null,
   "id": "72dddd43",
   "metadata": {
    "tags": []
   },
   "outputs": [],
   "source": [
    "config = settings.Config(epsilon=0.9, epsilon_low = 0.1, epsilon_step = 0.05, max_play_length=500, epochs = 2000, gamma = 0.9)\n",
    "start_time = time.time()\n",
    "rewards, losses = TrainQlearning(network_cnn, env, config)\n",
    "end_time = time.time()\n",
    "print('Training time: %d seconds' % (end_time - start_time))"
   ]
  },
  {
   "cell_type": "code",
   "execution_count": null,
   "id": "1e8de746",
   "metadata": {
    "tags": []
   },
   "outputs": [],
   "source": [
    "MovingAveragePlot(rewards, 100)"
   ]
  },
  {
   "cell_type": "code",
   "execution_count": null,
   "id": "707ed2d2",
   "metadata": {
    "tags": []
   },
   "outputs": [],
   "source": [
    "VectorFieldPlot(network_cnn, env, model_settings['width'], model_settings['height'])"
   ]
  },
  {
   "cell_type": "markdown",
   "id": "511db19f",
   "metadata": {},
   "source": [
    "## Q-learning with CNN on Multiple Maps"
   ]
  },
  {
   "cell_type": "code",
   "execution_count": null,
   "id": "03f0f39a",
   "metadata": {},
   "outputs": [],
   "source": [
    "model_settings = {\n",
    "    'height' : 10,\n",
    "    'width' : 10,\n",
    "    'obs_count' : 10\n",
    "}\n",
    "\n",
    "envs = []\n",
    "for seed in range(42, 52):\n",
    "    model_settings['random_seed'] = seed\n",
    "    envs.append(PathPlanningEnv(**model_settings))"
   ]
  },
  {
   "cell_type": "code",
   "execution_count": null,
   "id": "99c6a85e",
   "metadata": {},
   "outputs": [],
   "source": [
    "network_cnn = Q_Network(\n",
    "    BatchSize = 1,\n",
    "    MapHeight = model_settings['height'],\n",
    "    MapWidth = model_settings['width'],\n",
    "    Covn1OutChan = 32,\n",
    "    Conv1Kernel = 3,\n",
    "    Covn2OutChan = 64,\n",
    "    Conv2Kernel = 3,\n",
    "    HiddenSize = 256\n",
    ")"
   ]
  },
  {
   "cell_type": "code",
   "execution_count": null,
   "id": "3c1a14b2",
   "metadata": {
    "tags": []
   },
   "outputs": [],
   "source": [
    "config = settings.Config(epsilon=0.9, epsilon_low = 0.1, epsilon_step = 0.005, max_play_length=500, epochs = 20000, gamma = 0.9)\n",
    "start_time = time.time()\n",
    "rewards, losses = TrainQlearningMultiple(network_cnn, envs, config)\n",
    "end_time = time.time()\n",
    "print('Training time: %d seconds' % (end_time - start_time))"
   ]
  },
  {
   "cell_type": "code",
   "execution_count": null,
   "id": "c6b93ab1",
   "metadata": {},
   "outputs": [],
   "source": [
    "VectorFieldPlot(network_cnn, envs[8], model_settings['width'], model_settings['height'])"
   ]
  },
  {
   "cell_type": "code",
   "execution_count": null,
   "id": "480035f2",
   "metadata": {},
   "outputs": [],
   "source": [
    "model_settings['random_seed'] = 52\n",
    "test_env = PathPlanningEnv(**model_settings)"
   ]
  },
  {
   "cell_type": "code",
   "execution_count": null,
   "id": "6934d1e6",
   "metadata": {},
   "outputs": [],
   "source": [
    "VectorFieldPlot(network_cnn, test_env, model_settings['width'], model_settings['height'])"
   ]
  },
  {
   "cell_type": "markdown",
   "id": "ca8e6c2f",
   "metadata": {},
   "source": [
    "## Q-learning with CNN with reversed training (allow multiple maps)"
   ]
  },
  {
   "cell_type": "code",
   "execution_count": null,
   "id": "e6d5f0aa",
   "metadata": {},
   "outputs": [],
   "source": [
    "model_settings = {\n",
    "    'height' : 10,\n",
    "    'width' : 10,\n",
    "    'obs_count' : 10\n",
    "}\n",
    "\n",
    "envs = []\n",
    "for seed in range(42, 43):\n",
    "    model_settings['random_seed'] = seed\n",
    "    envs.append(PathPlanningEnv(**model_settings))"
   ]
  },
  {
   "cell_type": "code",
   "execution_count": null,
   "id": "b509d1f0",
   "metadata": {},
   "outputs": [],
   "source": [
    "network_cnn = Q_Network(\n",
    "    BatchSize = 1,\n",
    "    MapHeight = model_settings['height'],\n",
    "    MapWidth = model_settings['width'],\n",
    "    Covn1OutChan = 32,\n",
    "    Conv1Kernel = 3,\n",
    "    Covn2OutChan = 64,\n",
    "    Conv2Kernel = 3,\n",
    "    HiddenSize = 256\n",
    ")"
   ]
  },
  {
   "cell_type": "code",
   "execution_count": null,
   "id": "dca519e7",
   "metadata": {},
   "outputs": [],
   "source": [
    "config = settings.Config(epsilon=0.9, epsilon_low = 0.1, epsilon_step = 0.05, max_play_length=500, epochs = 400, gamma = 0.9)\n",
    "start_time = time.time()\n",
    "rewards, losses = TrainQlearningMultipleReverse(network_cnn, envs, config)\n",
    "end_time = time.time()\n",
    "print('Training time: %d seconds' % (end_time - start_time))"
   ]
  },
  {
   "cell_type": "code",
   "execution_count": null,
   "id": "b2cd34cc",
   "metadata": {},
   "outputs": [],
   "source": [
    "VectorFieldPlot(network_cnn, , model_settings['width'], model_settings['height'])"
   ]
  },
  {
   "cell_type": "markdown",
   "id": "a64e6416",
   "metadata": {},
   "source": [
    "## Q-learning with progressive training"
   ]
  },
  {
   "cell_type": "code",
   "execution_count": null,
   "id": "3d8a30cb",
   "metadata": {},
   "outputs": [],
   "source": [
    "from ProgressiveTrainer import ProgressiveTrainer"
   ]
  },
  {
   "cell_type": "code",
   "execution_count": null,
   "id": "b9d3052f",
   "metadata": {},
   "outputs": [],
   "source": [
    "model_settings = {\n",
    "    'height' : 10,\n",
    "    'width' : 10,\n",
    "    'obs_count' : 10\n",
    "}\n",
    "\n",
    "network_cnn = Q_Network(\n",
    "    BatchSize = 1,\n",
    "    MapHeight = model_settings['height'],\n",
    "    MapWidth = model_settings['width'],\n",
    "    Covn1OutChan = 8,\n",
    "    Conv1Kernel = 3,\n",
    "    Covn2OutChan = 8,\n",
    "    Conv2Kernel = 3,\n",
    "    HiddenSize = 64\n",
    ")"
   ]
  },
  {
   "cell_type": "code",
   "execution_count": null,
   "id": "6c60b955",
   "metadata": {},
   "outputs": [],
   "source": [
    "trainer = ProgressiveTrainer(network_cnn)"
   ]
  },
  {
   "cell_type": "code",
   "execution_count": null,
   "id": "7003e94c",
   "metadata": {
    "tags": []
   },
   "outputs": [],
   "source": [
    "cnt = 0\n",
    "while True:\n",
    "    cnt += 1\n",
    "    train_state = trainer.train_once()\n",
    "    if train_state['finish']: break\n",
    "    if train_state['inc_env']:\n",
    "        print('epoch %d environment increased' % cnt)\n",
    "    if cnt % 100 == 0:\n",
    "        print('epoch %d' % cnt, end=' ')\n",
    "        print('test envs:', end= ' ')\n",
    "        for fail_rate in trainer.test_envs():\n",
    "            print('%.3f' % fail_rate, end=' ')\n",
    "        print()"
   ]
  },
  {
   "cell_type": "markdown",
   "id": "b9472356",
   "metadata": {},
   "source": [
    "## Check rewards"
   ]
  },
  {
   "cell_type": "code",
   "execution_count": null,
   "id": "a8d22f30",
   "metadata": {},
   "outputs": [],
   "source": [
    "import numpy as np\n",
    "for i in range(10):\n",
    "    for j in range(10):\n",
    "        old_obs = env.grid[2,:,:]\n",
    "        goal_row = env.goal_row\n",
    "        goal_col = env.goal_col\n",
    "        env._init_from_grid(old_obs, i, j, goal_row, goal_col)\n",
    "\n",
    "        if env.grid[2, i, j] == 0:\n",
    "            preds = []\n",
    "            state = env.grid.clone().detach()\n",
    "            state = state.view(1, *state.shape)\n",
    "            for action in env.actions:\n",
    "                action = action.view(1, *action.shape)\n",
    "                pred = network_fcnn(state, action)\n",
    "                preds.append(pred)\n",
    "\n",
    "            print(\"{:.2f}\".format(max(preds).item()), end = \" \")\n",
    "        else:\n",
    "            print(\"xxxx\", end = \" \")\n",
    "\n",
    "    print(\" \")"
   ]
  },
  {
   "cell_type": "code",
   "execution_count": null,
   "id": "325c2099",
   "metadata": {},
   "outputs": [],
   "source": []
  }
 ],
 "metadata": {
  "kernelspec": {
   "display_name": "Python 3",
   "language": "python",
   "name": "python3"
  },
  "language_info": {
   "codemirror_mode": {
    "name": "ipython",
    "version": 3
   },
   "file_extension": ".py",
   "mimetype": "text/x-python",
   "name": "python",
   "nbconvert_exporter": "python",
   "pygments_lexer": "ipython3",
   "version": "3.8.8"
  }
 },
 "nbformat": 4,
 "nbformat_minor": 5
}
