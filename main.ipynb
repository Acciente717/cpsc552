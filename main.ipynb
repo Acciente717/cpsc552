{
 "cells": [
  {
   "cell_type": "code",
   "execution_count": null,
   "id": "39b863bc",
   "metadata": {},
   "outputs": [],
   "source": [
    "from PathPlanningEnv import PathPlanningEnv\n",
    "from FCNN import FCNN\n",
    "from run import TrainMemorize, TrainQlearning, PlayOnce, TrainQlearningMultiple, TrainQlearningMultipleReverse\n",
    "from utility import MovingAveragePlot, VectorFieldPlot\n",
    "import settings\n",
    "from matplotlib import pyplot as plt\n",
    "from Q_Network import Q_Network\n",
    "import time\n",
    "import random"
   ]
  },
  {
   "cell_type": "code",
   "execution_count": null,
   "id": "dbfbeb8a",
   "metadata": {
    "tags": []
   },
   "outputs": [],
   "source": [
    "model_settings = {\n",
    "    'height' : 10,\n",
    "    'width' : 10,\n",
    "    'obs_count' : 10,\n",
    "    'random_seed' : 42\n",
    "}\n",
    "\n",
    "env = PathPlanningEnv(**model_settings)\n",
    "env.display()\n",
    "print(env.distances)"
   ]
  },
  {
   "cell_type": "code",
   "execution_count": null,
   "id": "613b9c97",
   "metadata": {},
   "outputs": [],
   "source": [
    "input_dim = 3 * model_settings['height'] * model_settings['width'] + 4\n",
    "network_fcnn = FCNN(input_dim)"
   ]
  },
  {
   "cell_type": "code",
   "execution_count": null,
   "id": "34c39d96",
   "metadata": {
    "tags": []
   },
   "outputs": [],
   "source": [
    "config = settings.Config()\n",
    "start_time = time.time()\n",
    "rewards, losses = TrainMemorize(network_fcnn, env, config)\n",
    "end_time = time.time()\n",
    "print('Training time: %d seconds' % (end_time - start_time))"
   ]
  },
  {
   "cell_type": "code",
   "execution_count": null,
   "id": "16faa93e",
   "metadata": {},
   "outputs": [],
   "source": [
    "MovingAveragePlot(rewards, 100)"
   ]
  },
  {
   "cell_type": "code",
   "execution_count": null,
   "id": "6244410e",
   "metadata": {},
   "outputs": [],
   "source": [
    "print(env.foot_prints)"
   ]
  },
  {
   "cell_type": "code",
   "execution_count": null,
   "id": "9cb42740",
   "metadata": {},
   "outputs": [],
   "source": [
    "PlayOnce(network_fcnn, env, config)"
   ]
  },
  {
   "cell_type": "code",
   "execution_count": null,
   "id": "8cad28f1",
   "metadata": {},
   "outputs": [],
   "source": [
    "env = PathPlanningEnv(\n",
    "    grid = env.grid[2,:,:],\n",
    "    init_row = 4,\n",
    "    init_col = 9,\n",
    "    goal_row = env.goal_row,\n",
    "    goal_col = env.goal_col\n",
    ")\n",
    "PlayOnce(network_fcnn, env, config)"
   ]
  },
  {
   "cell_type": "code",
   "execution_count": null,
   "id": "8dc0fa7a",
   "metadata": {},
   "outputs": [],
   "source": [
    "env = PathPlanningEnv(\n",
    "    grid = env.grid[2,:,:],\n",
    "    init_row = 1,\n",
    "    init_col = 9,\n",
    "    goal_row = env.goal_row,\n",
    "    goal_col = env.goal_col\n",
    ")\n",
    "PlayOnce(network_fcnn, env, config)"
   ]
  },
  {
   "cell_type": "code",
   "execution_count": null,
   "id": "4b9ad659",
   "metadata": {},
   "outputs": [],
   "source": [
    "env = PathPlanningEnv(\n",
    "    grid = env.grid[2,:,:],\n",
    "    init_row = 0,\n",
    "    init_col = 5,\n",
    "    goal_row = env.goal_row,\n",
    "    goal_col = env.goal_col\n",
    ")\n",
    "PlayOnce(network_fcnn, env, config)"
   ]
  },
  {
   "cell_type": "code",
   "execution_count": null,
   "id": "783f5e56",
   "metadata": {},
   "outputs": [],
   "source": [
    "env = PathPlanningEnv(\n",
    "    grid = env.grid[2,:,:],\n",
    "    init_row = 1,\n",
    "    init_col = 0,\n",
    "    goal_row = env.goal_row,\n",
    "    goal_col = env.goal_col\n",
    ")\n",
    "PlayOnce(network_fcnn, env, config)"
   ]
  },
  {
   "cell_type": "code",
   "execution_count": null,
   "id": "e286a503",
   "metadata": {},
   "outputs": [],
   "source": [
    "VectorFieldPlot(network_fcnn, env, model_settings['width'], model_settings['height'])"
   ]
  },
  {
   "cell_type": "markdown",
   "id": "fcd5a7ca",
   "metadata": {},
   "source": [
    "## Q-learning"
   ]
  },
  {
   "cell_type": "code",
   "execution_count": null,
   "id": "35c383f4",
   "metadata": {
    "tags": []
   },
   "outputs": [],
   "source": [
    "model_settings = {\n",
    "    'height' : 10,\n",
    "    'width' : 10,\n",
    "    'obs_count' : 10,\n",
    "    'random_seed' : 42\n",
    "}\n",
    "\n",
    "env = PathPlanningEnv(**model_settings)\n",
    "env.display()\n",
    "print(env.distances)"
   ]
  },
  {
   "cell_type": "code",
   "execution_count": null,
   "id": "0debdb3b",
   "metadata": {},
   "outputs": [],
   "source": [
    "input_dim = 3 * model_settings['height'] * model_settings['width'] + 4\n",
    "network_fcnn = FCNN(input_dim)"
   ]
  },
  {
   "cell_type": "code",
   "execution_count": null,
   "id": "18f7d5dd",
   "metadata": {
    "tags": []
   },
   "outputs": [],
   "source": [
    "config = settings.Config(epsilon=0.9, epsilon_low=0.1, epsilon_step=0.05, max_play_length=500, epochs=2000, gamma=0.99, random_reset=False)\n",
    "start_time = time.time()\n",
    "rewards, losses, traces = TrainQlearning(network_fcnn, env, config, trace_step = 10)\n",
    "end_time = time.time()\n",
    "print('Training time: %d seconds' % (end_time - start_time))"
   ]
  },
  {
   "cell_type": "code",
   "execution_count": null,
   "id": "d05ab02d",
   "metadata": {},
   "outputs": [],
   "source": [
    "MovingAveragePlot(rewards, 100)"
   ]
  },
  {
   "cell_type": "code",
   "execution_count": null,
   "id": "b5197aa3",
   "metadata": {},
   "outputs": [],
   "source": [
    "print(env.foot_prints)"
   ]
  },
  {
   "cell_type": "code",
   "execution_count": null,
   "id": "3305506f",
   "metadata": {},
   "outputs": [],
   "source": [
    "PlayOnce(network_fcnn, env, config)"
   ]
  },
  {
   "cell_type": "code",
   "execution_count": null,
   "id": "3258ed5c",
   "metadata": {
    "tags": []
   },
   "outputs": [],
   "source": [
    "with open(\"traces.txt\", \"w+\") as f:\n",
    "    count = 1\n",
    "    for trace in traces:\n",
    "        f.write(str(count*10))\n",
    "        f.write(\"  \")\n",
    "        f.write(str(len(trace)))\n",
    "        f.write(\"  \")\n",
    "        f.write(str(trace))\n",
    "        f.write(\"\\n\")\n",
    "        count += 1"
   ]
  },
  {
   "cell_type": "code",
   "execution_count": null,
   "id": "e0f8bc95",
   "metadata": {},
   "outputs": [],
   "source": [
    "import matplotlib.pyplot as plt\n",
    "\n",
    "trace = traces[190]\n",
    "\n",
    "row = [10 - x[0] for x in trace]\n",
    "col = [x[1] for x in trace]\n",
    "\n",
    "plt.xlim([-1, 10])\n",
    "plt.ylim([0, 11])\n",
    "plt.plot(col,row)\n",
    "plt.plot(col,row,'or')\n",
    "plt.show()"
   ]
  },
  {
   "cell_type": "code",
   "execution_count": null,
   "id": "b76ca7bc",
   "metadata": {},
   "outputs": [],
   "source": [
    "env = PathPlanningEnv(\n",
    "    grid = env.grid[2,:,:],\n",
    "    init_row = 4,\n",
    "    init_col = 9,\n",
    "    goal_row = env.goal_row,\n",
    "    goal_col = env.goal_col\n",
    ")\n",
    "PlayOnce(network_fcnn, env, config)"
   ]
  },
  {
   "cell_type": "code",
   "execution_count": null,
   "id": "32353aa9",
   "metadata": {
    "tags": []
   },
   "outputs": [],
   "source": [
    "env = PathPlanningEnv(\n",
    "    grid = env.grid[2,:,:],\n",
    "    init_row = 1,\n",
    "    init_col = 9,\n",
    "    goal_row = env.goal_row,\n",
    "    goal_col = env.goal_col\n",
    ")\n",
    "PlayOnce(network_fcnn, env, config)"
   ]
  },
  {
   "cell_type": "code",
   "execution_count": null,
   "id": "c3c876d9",
   "metadata": {
    "tags": []
   },
   "outputs": [],
   "source": [
    "env = PathPlanningEnv(\n",
    "    grid = env.grid[2,:,:],\n",
    "    init_row = 0,\n",
    "    init_col = 5,\n",
    "    goal_row = env.goal_row,\n",
    "    goal_col = env.goal_col\n",
    ")\n",
    "PlayOnce(network_fcnn, env, config)"
   ]
  },
  {
   "cell_type": "code",
   "execution_count": null,
   "id": "2d380b5a",
   "metadata": {
    "tags": []
   },
   "outputs": [],
   "source": [
    "env = PathPlanningEnv(\n",
    "    grid = env.grid[2,:,:],\n",
    "    init_row = 1,\n",
    "    init_col = 0,\n",
    "    goal_row = env.goal_row,\n",
    "    goal_col = env.goal_col\n",
    ")\n",
    "PlayOnce(network_fcnn, env, config)"
   ]
  },
  {
   "cell_type": "code",
   "execution_count": null,
   "id": "153e85b4",
   "metadata": {},
   "outputs": [],
   "source": [
    "VectorFieldPlot(network_fcnn, env, model_settings['width'], model_settings['height'])"
   ]
  },
  {
   "cell_type": "markdown",
   "id": "e1255082",
   "metadata": {},
   "source": [
    "## Q-learning with CNN"
   ]
  },
  {
   "cell_type": "code",
   "execution_count": null,
   "id": "dde4543a",
   "metadata": {
    "tags": []
   },
   "outputs": [],
   "source": [
    "model_settings = {\n",
    "    'height' : 10,\n",
    "    'width' : 10,\n",
    "    'obs_count' : 10,\n",
    "    'random_seed' : 42\n",
    "}\n",
    "\n",
    "env = PathPlanningEnv(**model_settings)\n",
    "env.display()\n",
    "print(env.distances)"
   ]
  },
  {
   "cell_type": "code",
   "execution_count": null,
   "id": "900023a9",
   "metadata": {},
   "outputs": [],
   "source": [
    "network_cnn = Q_Network(\n",
    "    BatchSize = 1,\n",
    "    MapHeight = model_settings['height'],\n",
    "    MapWidth = model_settings['width'],\n",
    "    Covn1OutChan = 8,\n",
    "    Conv1Kernel = 3,\n",
    "    Covn2OutChan = 8,\n",
    "    Conv2Kernel = 3,\n",
    "    HiddenSize = 64\n",
    ")"
   ]
  },
  {
   "cell_type": "code",
   "execution_count": null,
   "id": "a43edf6a",
   "metadata": {
    "tags": []
   },
   "outputs": [],
   "source": [
    "config = settings.Config(epsilon=0.9, epsilon_low = 0.1, epsilon_step = 0.05, max_play_length=500, epochs = 2000, gamma = 0.9)\n",
    "start_time = time.time()\n",
    "rewards, losses = TrainQlearning(network_cnn, env, config)\n",
    "end_time = time.time()\n",
    "print('Training time: %d seconds' % (end_time - start_time))"
   ]
  },
  {
   "cell_type": "code",
   "execution_count": null,
   "id": "2edfd339",
   "metadata": {
    "tags": []
   },
   "outputs": [],
   "source": [
    "MovingAveragePlot(rewards, 100)"
   ]
  },
  {
   "cell_type": "code",
   "execution_count": null,
   "id": "fc360c56",
   "metadata": {
    "tags": []
   },
   "outputs": [],
   "source": [
    "VectorFieldPlot(network_cnn, env, model_settings['width'], model_settings['height'])"
   ]
  },
  {
   "cell_type": "markdown",
   "id": "2f97e641",
   "metadata": {},
   "source": [
    "## Q-learning with CNN on Multiple Maps"
   ]
  },
  {
   "cell_type": "code",
   "execution_count": null,
   "id": "a6cbd86f",
   "metadata": {},
   "outputs": [],
   "source": [
    "model_settings = {\n",
    "    'height' : 10,\n",
    "    'width' : 10,\n",
    "    'obs_count' : 10\n",
    "}\n",
    "\n",
    "envs = []\n",
    "for seed in range(42, 52):\n",
    "    model_settings['random_seed'] = seed\n",
    "    envs.append(PathPlanningEnv(**model_settings))"
   ]
  },
  {
   "cell_type": "code",
   "execution_count": null,
   "id": "7468ad68",
   "metadata": {},
   "outputs": [],
   "source": [
    "network_cnn = Q_Network(\n",
    "    BatchSize = 1,\n",
    "    MapHeight = model_settings['height'],\n",
    "    MapWidth = model_settings['width'],\n",
    "    Covn1OutChan = 32,\n",
    "    Conv1Kernel = 3,\n",
    "    Covn2OutChan = 64,\n",
    "    Conv2Kernel = 3,\n",
    "    HiddenSize = 256\n",
    ")"
   ]
  },
  {
   "cell_type": "code",
   "execution_count": null,
   "id": "a60018c8",
   "metadata": {
    "tags": []
   },
   "outputs": [],
   "source": [
    "config = settings.Config(epsilon=0.9, epsilon_low = 0.1, epsilon_step = 0.005, max_play_length=500, epochs = 20000, gamma = 0.9)\n",
    "start_time = time.time()\n",
    "rewards, losses = TrainQlearningMultiple(network_cnn, envs, config)\n",
    "end_time = time.time()\n",
    "print('Training time: %d seconds' % (end_time - start_time))"
   ]
  },
  {
   "cell_type": "code",
   "execution_count": null,
   "id": "2abd5847",
   "metadata": {},
   "outputs": [],
   "source": [
    "VectorFieldPlot(network_cnn, envs[8], model_settings['width'], model_settings['height'])"
   ]
  },
  {
   "cell_type": "code",
   "execution_count": null,
   "id": "8f70273d",
   "metadata": {},
   "outputs": [],
   "source": [
    "model_settings['random_seed'] = 52\n",
    "test_env = PathPlanningEnv(**model_settings)"
   ]
  },
  {
   "cell_type": "code",
   "execution_count": null,
   "id": "5ba01b24",
   "metadata": {},
   "outputs": [],
   "source": [
    "VectorFieldPlot(network_cnn, test_env, model_settings['width'], model_settings['height'])"
   ]
  },
  {
   "cell_type": "markdown",
   "id": "c9a4487e",
   "metadata": {},
   "source": [
    "## Q-learning with CNN with reversed training (allow multiple maps)"
   ]
  },
  {
   "cell_type": "code",
   "execution_count": null,
   "id": "dde2edc1",
   "metadata": {},
   "outputs": [],
   "source": [
    "model_settings = {\n",
    "    'height' : 10,\n",
    "    'width' : 10,\n",
    "    'obs_count' : 10\n",
    "}\n",
    "\n",
    "envs = []\n",
    "for seed in range(42, 43):\n",
    "    model_settings['random_seed'] = seed\n",
    "    envs.append(PathPlanningEnv(**model_settings))"
   ]
  },
  {
   "cell_type": "code",
   "execution_count": null,
   "id": "8915d8bf",
   "metadata": {},
   "outputs": [],
   "source": [
    "network_cnn = Q_Network(\n",
    "    BatchSize = 1,\n",
    "    MapHeight = model_settings['height'],\n",
    "    MapWidth = model_settings['width'],\n",
    "    Covn1OutChan = 32,\n",
    "    Conv1Kernel = 3,\n",
    "    Covn2OutChan = 64,\n",
    "    Conv2Kernel = 3,\n",
    "    HiddenSize = 256\n",
    ")"
   ]
  },
  {
   "cell_type": "code",
   "execution_count": null,
   "id": "47e86cc2",
   "metadata": {},
   "outputs": [],
   "source": [
    "config = settings.Config(epsilon=0.9, epsilon_low = 0.1, epsilon_step = 0.05, max_play_length=500, epochs = 400, gamma = 0.9)\n",
    "start_time = time.time()\n",
    "rewards, losses = TrainQlearningMultipleReverse(network_cnn, envs, config)\n",
    "end_time = time.time()\n",
    "print('Training time: %d seconds' % (end_time - start_time))"
   ]
  },
  {
   "cell_type": "code",
   "execution_count": null,
   "id": "173d7daf",
   "metadata": {},
   "outputs": [],
   "source": [
    "VectorFieldPlot(network_cnn, , model_settings['width'], model_settings['height'])"
   ]
  },
  {
   "cell_type": "markdown",
   "id": "31773f04",
   "metadata": {},
   "source": [
    "## Q-learning with progressive training"
   ]
  },
  {
   "cell_type": "code",
   "execution_count": null,
   "id": "65dd8790",
   "metadata": {},
   "outputs": [],
   "source": [
    "from ProgressiveTrainer import ProgressiveTrainer\n",
    "from AVNet import AVNet"
   ]
  },
  {
   "cell_type": "code",
   "execution_count": null,
   "id": "f0bc4c02",
   "metadata": {},
   "outputs": [],
   "source": [
    "network_cnn = AVNet()"
   ]
  },
  {
   "cell_type": "code",
   "execution_count": null,
   "id": "e93ed125",
   "metadata": {},
   "outputs": [],
   "source": [
    "trainer = ProgressiveTrainer(network_cnn, device='cuda', max_env_num=80)"
   ]
  },
  {
   "cell_type": "code",
   "execution_count": null,
   "id": "b6b8a4f2",
   "metadata": {
    "tags": []
   },
   "outputs": [],
   "source": [
    "cnt = 0\n",
    "while True:\n",
    "    cnt += 1\n",
    "    train_state = trainer.train_once()\n",
    "    if train_state['finish']: break\n",
    "    if train_state['inc_env']:\n",
    "        print('epoch %d environment increased' % cnt)\n",
    "    if cnt % 100 == 0:\n",
    "        print('epoch %d' % cnt, end=' ')\n",
    "        print('test envs:', end= ' ')\n",
    "        for fail_rate in trainer.test_envs():\n",
    "            print('%.3f' % fail_rate, end=' ')\n",
    "        print()"
   ]
  },
  {
   "cell_type": "markdown",
   "id": "8dfc6ea6",
   "metadata": {},
   "source": [
    "## Check rewards"
   ]
  },
  {
   "cell_type": "code",
   "execution_count": null,
   "id": "d0e92c9c",
   "metadata": {},
   "outputs": [],
   "source": [
    "import numpy as np\n",
    "for i in range(10):\n",
    "    for j in range(10):\n",
    "        old_obs = env.grid[2,:,:]\n",
    "        goal_row = env.goal_row\n",
    "        goal_col = env.goal_col\n",
    "        env._init_from_grid(old_obs, i, j, goal_row, goal_col)\n",
    "\n",
    "        if env.grid[2, i, j] == 0:\n",
    "            preds = []\n",
    "            state = env.grid.clone().detach()\n",
    "            state = state.view(1, *state.shape)\n",
    "            for action in env.actions:\n",
    "                action = action.view(1, *action.shape)\n",
    "                pred = network_fcnn(state, action)\n",
    "                preds.append(pred)\n",
    "\n",
    "            print(\"{:.2f}\".format(max(preds).item()), end = \" \")\n",
    "        else:\n",
    "            print(\"xxxx\", end = \" \")\n",
    "\n",
    "    print(\" \")"
   ]
  },
  {
   "cell_type": "code",
   "execution_count": null,
   "id": "c7eb88be",
   "metadata": {},
   "outputs": [],
   "source": []
  }
 ],
 "metadata": {
  "kernelspec": {
   "display_name": "Python 3",
   "language": "python",
   "name": "python3"
  },
  "language_info": {
   "codemirror_mode": {
    "name": "ipython",
    "version": 3
   },
   "file_extension": ".py",
   "mimetype": "text/x-python",
   "name": "python",
   "nbconvert_exporter": "python",
   "pygments_lexer": "ipython3",
   "version": "3.8.8"
  }
 },
 "nbformat": 4,
 "nbformat_minor": 5
}
