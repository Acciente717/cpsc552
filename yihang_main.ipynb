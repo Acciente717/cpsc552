{
 "cells": [
  {
   "cell_type": "code",
   "execution_count": null,
   "id": "2839b20f",
   "metadata": {},
   "outputs": [],
   "source": [
    "from PathPlanningEnv import PathPlanningEnv\n",
    "from FCNN import FCNN\n",
    "from run import TrainMemorize, TrainQlearning, PlayOnce, TrainQlearningMultiple, TrainQlearningMultipleReverse\n",
    "from utility import MovingAveragePlot, VectorFieldPlot\n",
    "import settings\n",
    "from matplotlib import pyplot as plt\n",
    "from Q_Network import Q_Network\n",
    "import time\n",
    "import random"
   ]
  },
  {
   "cell_type": "code",
   "execution_count": null,
   "id": "b6560e58",
   "metadata": {
    "tags": []
   },
   "outputs": [],
   "source": [
    "model_settings = {\n",
    "    'height' : 10,\n",
    "    'width' : 10,\n",
    "    'obs_count' : 10,\n",
    "    'random_seed' : 42\n",
    "}\n",
    "\n",
    "env = PathPlanningEnv(**model_settings)\n",
    "env.display()\n",
    "print(env.distances)"
   ]
  },
  {
   "cell_type": "code",
   "execution_count": null,
   "id": "253ce8a7",
   "metadata": {},
   "outputs": [],
   "source": [
    "input_dim = 3 * model_settings['height'] * model_settings['width'] + 4\n",
    "network_fcnn = FCNN(input_dim)"
   ]
  },
  {
   "cell_type": "code",
   "execution_count": null,
   "id": "09f88800",
   "metadata": {
    "tags": []
   },
   "outputs": [],
   "source": [
    "config = settings.Config()\n",
    "start_time = time.time()\n",
    "rewards, losses = TrainMemorize(network_fcnn, env, config)\n",
    "end_time = time.time()\n",
    "print('Training time: %d seconds' % (end_time - start_time))"
   ]
  },
  {
   "cell_type": "code",
   "execution_count": null,
   "id": "e0d1f150",
   "metadata": {},
   "outputs": [],
   "source": [
    "MovingAveragePlot(rewards, 100)"
   ]
  },
  {
   "cell_type": "code",
   "execution_count": null,
   "id": "bb410c5d",
   "metadata": {},
   "outputs": [],
   "source": [
    "print(env.foot_prints)"
   ]
  },
  {
   "cell_type": "code",
   "execution_count": null,
   "id": "46f791a0",
   "metadata": {},
   "outputs": [],
   "source": [
    "PlayOnce(network_fcnn, env, config)"
   ]
  },
  {
   "cell_type": "code",
   "execution_count": null,
   "id": "08d8ac88",
   "metadata": {},
   "outputs": [],
   "source": [
    "env = PathPlanningEnv(\n",
    "    grid = env.grid[2,:,:],\n",
    "    init_row = 4,\n",
    "    init_col = 9,\n",
    "    goal_row = env.goal_row,\n",
    "    goal_col = env.goal_col\n",
    ")\n",
    "PlayOnce(network_fcnn, env, config)"
   ]
  },
  {
   "cell_type": "code",
   "execution_count": null,
   "id": "f699415a",
   "metadata": {},
   "outputs": [],
   "source": [
    "env = PathPlanningEnv(\n",
    "    grid = env.grid[2,:,:],\n",
    "    init_row = 1,\n",
    "    init_col = 9,\n",
    "    goal_row = env.goal_row,\n",
    "    goal_col = env.goal_col\n",
    ")\n",
    "PlayOnce(network_fcnn, env, config)"
   ]
  },
  {
   "cell_type": "code",
   "execution_count": null,
   "id": "3fe777c3",
   "metadata": {},
   "outputs": [],
   "source": [
    "env = PathPlanningEnv(\n",
    "    grid = env.grid[2,:,:],\n",
    "    init_row = 0,\n",
    "    init_col = 5,\n",
    "    goal_row = env.goal_row,\n",
    "    goal_col = env.goal_col\n",
    ")\n",
    "PlayOnce(network_fcnn, env, config)"
   ]
  },
  {
   "cell_type": "code",
   "execution_count": null,
   "id": "924a898f",
   "metadata": {},
   "outputs": [],
   "source": [
    "env = PathPlanningEnv(\n",
    "    grid = env.grid[2,:,:],\n",
    "    init_row = 1,\n",
    "    init_col = 0,\n",
    "    goal_row = env.goal_row,\n",
    "    goal_col = env.goal_col\n",
    ")\n",
    "PlayOnce(network_fcnn, env, config)"
   ]
  },
  {
   "cell_type": "code",
   "execution_count": null,
   "id": "98fa6427",
   "metadata": {},
   "outputs": [],
   "source": [
    "VectorFieldPlot(network_fcnn, env, model_settings['width'], model_settings['height'])"
   ]
  },
  {
   "cell_type": "markdown",
   "id": "a69d64f9",
   "metadata": {},
   "source": [
    "## Q-learning"
   ]
  },
  {
   "cell_type": "code",
   "execution_count": null,
   "id": "60aac742",
   "metadata": {
    "tags": []
   },
   "outputs": [],
   "source": [
    "model_settings = {\n",
    "    'height' : 10,\n",
    "    'width' : 10,\n",
    "    'obs_count' : 10,\n",
    "    'random_seed' : 42\n",
    "}\n",
    "\n",
    "env = PathPlanningEnv(**model_settings)\n",
    "env.display()\n",
    "print(env.distances)"
   ]
  },
  {
   "cell_type": "code",
   "execution_count": null,
   "id": "33f73f6d",
   "metadata": {},
   "outputs": [],
   "source": [
    "input_dim = 3 * model_settings['height'] * model_settings['width'] + 4\n",
    "network_fcnn = FCNN(input_dim)"
   ]
  },
  {
   "cell_type": "code",
   "execution_count": null,
   "id": "68f61833",
   "metadata": {
    "tags": []
   },
   "outputs": [],
   "source": [
    "config = settings.Config(epsilon=0.9, epsilon_low=0.1, epsilon_step=0.05, max_play_length=500, epochs=2000, gamma=0.99, random_reset=False)\n",
    "start_time = time.time()\n",
    "rewards, losses, traces = TrainQlearning(network_fcnn, env, config, trace_step = 10)\n",
    "end_time = time.time()\n",
    "print('Training time: %d seconds' % (end_time - start_time))"
   ]
  },
  {
   "cell_type": "code",
   "execution_count": null,
   "id": "4706b24a",
   "metadata": {},
   "outputs": [],
   "source": [
    "MovingAveragePlot(rewards, 100)"
   ]
  },
  {
   "cell_type": "code",
   "execution_count": null,
   "id": "8a5fe02d",
   "metadata": {},
   "outputs": [],
   "source": [
    "print(env.foot_prints)"
   ]
  },
  {
   "cell_type": "code",
   "execution_count": null,
   "id": "374c1627",
   "metadata": {},
   "outputs": [],
   "source": [
    "PlayOnce(network_fcnn, env, config)"
   ]
  },
  {
   "cell_type": "code",
   "execution_count": null,
   "metadata": {
    "tags": []
   },
   "outputs": [],
   "source": [
    "with open(\"traces.txt\", \"w+\") as f:\n",
    "    count = 1\n",
    "    for trace in traces:\n",
    "        f.write(str(count*10))\n",
    "        f.write(\"  \")\n",
    "        f.write(str(len(trace)))\n",
    "        f.write(\"  \")\n",
    "        f.write(str(trace))\n",
    "        f.write(\"\\n\")\n",
    "        count += 1"
   ]
  },
  {
   "cell_type": "code",
   "execution_count": null,
   "metadata": {},
   "outputs": [],
   "source": [
    "import matplotlib.pyplot as plt\n",
    "\n",
    "trace = traces[190]\n",
    "\n",
    "row = [10 - x[0] for x in trace]\n",
    "col = [x[1] for x in trace]\n",
    "\n",
    "plt.xlim([-1, 10])\n",
    "plt.ylim([0, 11])\n",
    "plt.plot(col,row)\n",
    "plt.plot(col,row,'or')\n",
    "plt.show()"
   ]
  },
  {
   "cell_type": "code",
   "execution_count": null,
   "id": "1c581aaf",
   "metadata": {},
   "outputs": [],
   "source": [
    "env = PathPlanningEnv(\n",
    "    grid = env.grid[2,:,:],\n",
    "    init_row = 4,\n",
    "    init_col = 9,\n",
    "    goal_row = env.goal_row,\n",
    "    goal_col = env.goal_col\n",
    ")\n",
    "PlayOnce(network_fcnn, env, config)"
   ]
  },
  {
   "cell_type": "code",
   "execution_count": null,
   "id": "dc6eda6d",
   "metadata": {
    "tags": []
   },
   "outputs": [],
   "source": [
    "env = PathPlanningEnv(\n",
    "    grid = env.grid[2,:,:],\n",
    "    init_row = 1,\n",
    "    init_col = 9,\n",
    "    goal_row = env.goal_row,\n",
    "    goal_col = env.goal_col\n",
    ")\n",
    "PlayOnce(network_fcnn, env, config)"
   ]
  },
  {
   "cell_type": "code",
   "execution_count": null,
   "id": "72ce31b0",
   "metadata": {
    "tags": []
   },
   "outputs": [],
   "source": [
    "env = PathPlanningEnv(\n",
    "    grid = env.grid[2,:,:],\n",
    "    init_row = 0,\n",
    "    init_col = 5,\n",
    "    goal_row = env.goal_row,\n",
    "    goal_col = env.goal_col\n",
    ")\n",
    "PlayOnce(network_fcnn, env, config)"
   ]
  },
  {
   "cell_type": "code",
   "execution_count": null,
   "id": "642cf3c9",
   "metadata": {
    "tags": []
   },
   "outputs": [],
   "source": [
    "env = PathPlanningEnv(\n",
    "    grid = env.grid[2,:,:],\n",
    "    init_row = 1,\n",
    "    init_col = 0,\n",
    "    goal_row = env.goal_row,\n",
    "    goal_col = env.goal_col\n",
    ")\n",
    "PlayOnce(network_fcnn, env, config)"
   ]
  },
  {
   "cell_type": "code",
   "execution_count": null,
   "id": "d3b5e128",
   "metadata": {},
   "outputs": [],
   "source": [
    "VectorFieldPlot(network_fcnn, env, model_settings['width'], model_settings['height'])"
   ]
  },
  {
   "cell_type": "markdown",
   "id": "56729b47",
   "metadata": {},
   "source": [
    "## Q-learning with CNN"
   ]
  },
  {
   "cell_type": "code",
   "execution_count": null,
   "id": "69bae490",
   "metadata": {
    "tags": []
   },
   "outputs": [],
   "source": [
    "model_settings = {\n",
    "    'height' : 10,\n",
    "    'width' : 10,\n",
    "    'obs_count' : 10,\n",
    "    'random_seed' : 42\n",
    "}\n",
    "\n",
    "env = PathPlanningEnv(**model_settings)\n",
    "env.display()\n",
    "print(env.distances)"
   ]
  },
  {
   "cell_type": "code",
   "execution_count": null,
   "id": "e8750ce3",
   "metadata": {},
   "outputs": [],
   "source": [
    "network_cnn = Q_Network(\n",
    "    BatchSize = 1,\n",
    "    MapHeight = model_settings['height'],\n",
    "    MapWidth = model_settings['width'],\n",
    "    Covn1OutChan = 8,\n",
    "    Conv1Kernel = 3,\n",
    "    Covn2OutChan = 8,\n",
    "    Conv2Kernel = 3,\n",
    "    HiddenSize = 64\n",
    ")"
   ]
  },
  {
   "cell_type": "code",
   "execution_count": null,
   "id": "79c306ef",
   "metadata": {
    "tags": []
   },
   "outputs": [],
   "source": [
    "config = settings.Config(epsilon=0.9, epsilon_low = 0.1, epsilon_step = 0.05, max_play_length=500, epochs = 2000, gamma = 0.9)\n",
    "start_time = time.time()\n",
    "rewards, losses = TrainQlearning(network_cnn, env, config)\n",
    "end_time = time.time()\n",
    "print('Training time: %d seconds' % (end_time - start_time))"
   ]
  },
  {
   "cell_type": "code",
   "execution_count": null,
   "id": "3499600d",
   "metadata": {
    "tags": []
   },
   "outputs": [],
   "source": [
    "MovingAveragePlot(rewards, 100)"
   ]
  },
  {
   "cell_type": "code",
   "execution_count": null,
   "id": "bb154b49",
   "metadata": {
    "tags": []
   },
   "outputs": [],
   "source": [
    "VectorFieldPlot(network_cnn, env, model_settings['width'], model_settings['height'])"
   ]
  },
  {
   "cell_type": "markdown",
   "id": "a143e7f8",
   "metadata": {},
   "source": [
    "## Q-learning with CNN on Multiple Maps"
   ]
  },
  {
   "cell_type": "code",
   "execution_count": null,
   "id": "f8f1eafa",
   "metadata": {},
   "outputs": [],
   "source": [
    "model_settings = {\n",
    "    'height' : 10,\n",
    "    'width' : 10,\n",
    "    'obs_count' : 10\n",
    "}\n",
    "\n",
    "envs = []\n",
    "for seed in range(42, 52):\n",
    "    model_settings['random_seed'] = seed\n",
    "    envs.append(PathPlanningEnv(**model_settings))"
   ]
  },
  {
   "cell_type": "code",
   "execution_count": null,
   "id": "583a3257",
   "metadata": {},
   "outputs": [],
   "source": [
    "network_cnn = Q_Network(\n",
    "    BatchSize = 1,\n",
    "    MapHeight = model_settings['height'],\n",
    "    MapWidth = model_settings['width'],\n",
    "    Covn1OutChan = 32,\n",
    "    Conv1Kernel = 3,\n",
    "    Covn2OutChan = 64,\n",
    "    Conv2Kernel = 3,\n",
    "    HiddenSize = 256\n",
    ")"
   ]
  },
  {
   "cell_type": "code",
   "execution_count": null,
   "id": "0bba4a63",
   "metadata": {
    "tags": []
   },
   "outputs": [],
   "source": [
    "config = settings.Config(epsilon=0.9, epsilon_low = 0.1, epsilon_step = 0.005, max_play_length=500, epochs = 20000, gamma = 0.9)\n",
    "start_time = time.time()\n",
    "rewards, losses = TrainQlearningMultiple(network_cnn, envs, config)\n",
    "end_time = time.time()\n",
    "print('Training time: %d seconds' % (end_time - start_time))"
   ]
  },
  {
   "cell_type": "code",
   "execution_count": null,
   "id": "6f7eadbb",
   "metadata": {},
   "outputs": [],
   "source": [
    "VectorFieldPlot(network_cnn, envs[8], model_settings['width'], model_settings['height'])"
   ]
  },
  {
   "cell_type": "code",
   "execution_count": null,
   "id": "5a7b4c39",
   "metadata": {},
   "outputs": [],
   "source": [
    "model_settings['random_seed'] = 52\n",
    "test_env = PathPlanningEnv(**model_settings)"
   ]
  },
  {
   "cell_type": "code",
   "execution_count": null,
   "id": "6339e71c",
   "metadata": {},
   "outputs": [],
   "source": [
    "VectorFieldPlot(network_cnn, test_env, model_settings['width'], model_settings['height'])"
   ]
  },
  {
   "cell_type": "markdown",
   "id": "f6e0b436",
   "metadata": {},
   "source": [
    "## Q-learning with CNN with reversed training (allow multiple maps)"
   ]
  },
  {
   "cell_type": "code",
   "execution_count": null,
   "id": "ca98c205",
   "metadata": {},
   "outputs": [],
   "source": [
    "model_settings = {\n",
    "    'height' : 10,\n",
    "    'width' : 10,\n",
    "    'obs_count' : 10\n",
    "}\n",
    "\n",
    "envs = []\n",
    "for seed in range(42, 43):\n",
    "    model_settings['random_seed'] = seed\n",
    "    envs.append(PathPlanningEnv(**model_settings))"
   ]
  },
  {
   "cell_type": "code",
   "execution_count": null,
   "id": "2c14ad83",
   "metadata": {},
   "outputs": [],
   "source": [
    "network_cnn = Q_Network(\n",
    "    BatchSize = 1,\n",
    "    MapHeight = model_settings['height'],\n",
    "    MapWidth = model_settings['width'],\n",
    "    Covn1OutChan = 8,\n",
    "    Conv1Kernel = 3,\n",
    "    Covn2OutChan = 8,\n",
    "    Conv2Kernel = 3,\n",
    "    HiddenSize = 64\n",
    ")"
   ]
  },
  {
   "cell_type": "code",
   "execution_count": null,
   "id": "a5d326e4",
   "metadata": {},
   "outputs": [],
   "source": [
    "config = settings.Config(epsilon=0.9, epsilon_low = 0.1, epsilon_step = 0.05, max_play_length=500, epochs = 400, gamma = 0.9)\n",
    "start_time = time.time()\n",
    "rewards, losses = TrainQlearningMultipleReverse(network_cnn, envs, config)\n",
    "end_time = time.time()\n",
    "print('Training time: %d seconds' % (end_time - start_time))"
   ]
  },
  {
   "cell_type": "code",
   "execution_count": null,
   "id": "dcab620a",
   "metadata": {},
   "outputs": [],
   "source": [
    "VectorFieldPlot(network_cnn, , model_settings['width'], model_settings['height'])"
   ]
  },
  {
   "cell_type": "markdown",
   "id": "a2250514",
   "metadata": {},
   "source": [
    "Check rewards"
   ]
  },
  {
   "cell_type": "code",
   "execution_count": null,
   "id": "d3ccf000",
   "metadata": {},
   "outputs": [],
   "source": [
    "import numpy as np\n",
    "for i in range(10):\n",
    "    for j in range(10):\n",
    "        old_obs = env.grid[2,:,:]\n",
    "        goal_row = env.goal_row\n",
    "        goal_col = env.goal_col\n",
    "        env._init_from_grid(old_obs, i, j, goal_row, goal_col)\n",
    "\n",
    "        if env.grid[2, i, j] == 0:\n",
    "            preds = []\n",
    "            state = env.grid.clone().detach()\n",
    "            state = state.view(1, *state.shape)\n",
    "            for action in env.actions:\n",
    "                action = action.view(1, *action.shape)\n",
    "                pred = network_fcnn(state, action)\n",
    "                preds.append(pred)\n",
    "\n",
    "            print(\"{:.2f}\".format(max(preds).item()), end = \" \")\n",
    "        else:\n",
    "            print(\"xxxx\", end = \" \")\n",
    "\n",
    "    print(\" \")"
   ]
  },
  {
   "cell_type": "code",
   "execution_count": null,
   "id": "0d4cab2d",
   "metadata": {},
   "outputs": [],
   "source": [
    "import random"
   ]
  },
  {
   "cell_type": "code",
   "execution_count": null,
   "id": "01ca3cce",
   "metadata": {},
   "outputs": [],
   "source": [
    "help(random.choose_from)"
   ]
  },
  {
   "cell_type": "code",
   "execution_count": null,
   "id": "16465586",
   "metadata": {},
   "outputs": [],
   "source": [
    "for i, j in zip(range(5), range(4)):\n",
    "    print(i, j)"
   ]
  },
  {
   "cell_type": "code",
   "execution_count": null,
   "id": "d9880b5b",
   "metadata": {},
   "outputs": [],
   "source": [
    "lst = [1, 2, 3]"
   ]
  },
  {
   "cell_type": "code",
   "execution_count": null,
   "id": "88d9c6d9",
   "metadata": {},
   "outputs": [],
   "source": [
    "lst.reverse()"
   ]
  },
  {
   "cell_type": "code",
   "execution_count": null,
   "id": "75907ca1",
   "metadata": {},
   "outputs": [],
   "source": [
    "lst"
   ]
  },
  {
   "cell_type": "code",
   "execution_count": null,
   "id": "eca785d2",
   "metadata": {},
   "outputs": [],
   "source": [
    "lst.copy()"
   ]
  },
  {
   "cell_type": "code",
   "execution_count": null,
   "id": "d9a05a22",
   "metadata": {},
   "outputs": [],
   "source": [
    "from copy import deepcopy"
   ]
  },
  {
   "cell_type": "code",
   "execution_count": null,
   "id": "9f8c3ea3",
   "metadata": {},
   "outputs": [],
   "source": []
  }
 ],
 "metadata": {
  "kernelspec": {
   "name": "python385jvsc74a57bd02e918aaa81d99c652401bdd1a0c185581595fb477ac919641bd65261b5d7782a",
   "display_name": "Python 3.8.5 64-bit ('base': conda)"
  },
  "language_info": {
   "codemirror_mode": {
    "name": "ipython",
    "version": 3
   },
   "file_extension": ".py",
   "mimetype": "text/x-python",
   "name": "python",
   "nbconvert_exporter": "python",
   "pygments_lexer": "ipython3",
   "version": "3.8.5"
  }
 },
 "nbformat": 4,
 "nbformat_minor": 5
}