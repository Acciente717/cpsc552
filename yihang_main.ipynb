{
 "cells": [
  {
   "cell_type": "code",
   "execution_count": null,
   "id": "356f7708",
   "metadata": {},
   "outputs": [],
   "source": [
    "from PathPlanningEnv import PathPlanningEnv\n",
    "from FCNN import FCNN\n",
    "from run import TrainMemorize, TrainQlearning, PlayOnce\n",
    "from utility import MovingAveragePlot, VectorFieldPlot\n",
    "import settings\n",
    "from matplotlib import pyplot as plt\n",
    "from Q_Network import Q_Network\n",
    "import time"
   ]
  },
  {
   "cell_type": "code",
   "execution_count": null,
   "id": "d28004ba",
   "metadata": {
    "tags": []
   },
   "outputs": [],
   "source": [
    "model_settings = {\n",
    "    'height' : 10,\n",
    "    'width' : 10,\n",
    "    'obs_count' : 5,\n",
    "    'random_seed' : 42\n",
    "}\n",
    "\n",
    "env = PathPlanningEnv(**model_settings)\n",
    "env.display()\n",
    "print(env.distances)"
   ]
  },
  {
   "cell_type": "code",
   "execution_count": null,
   "id": "024efac4",
   "metadata": {},
   "outputs": [],
   "source": [
    "input_dim = 3 * model_settings['height'] * model_settings['width'] + 4\n",
    "network_fcnn = FCNN(input_dim)"
   ]
  },
  {
   "cell_type": "code",
   "execution_count": null,
   "id": "d9ccdb1b",
   "metadata": {
    "tags": []
   },
   "outputs": [],
   "source": [
    "config = settings.Config()\n",
    "start_time = time.time()\n",
    "rewards, losses = TrainMemorize(network_fcnn, env, config)\n",
    "end_time = time.time()\n",
    "print('Training time: %d seconds' % (end_time - start_time))"
   ]
  },
  {
   "cell_type": "code",
   "execution_count": null,
   "id": "2315ae7b",
   "metadata": {},
   "outputs": [],
   "source": [
    "MovingAveragePlot(rewards, 100)"
   ]
  },
  {
   "cell_type": "code",
   "execution_count": null,
   "id": "47a95933",
   "metadata": {},
   "outputs": [],
   "source": [
    "print(env.foot_prints)"
   ]
  },
  {
   "cell_type": "code",
   "execution_count": null,
   "id": "5d40e4d1",
   "metadata": {},
   "outputs": [],
   "source": [
    "PlayOnce(network_fcnn, env, config)"
   ]
  },
  {
   "cell_type": "code",
   "execution_count": null,
   "id": "bcc2d16b",
   "metadata": {},
   "outputs": [],
   "source": [
    "env = PathPlanningEnv(\n",
    "    grid = env.grid[2,:,:],\n",
    "    init_row = 4,\n",
    "    init_col = 9,\n",
    "    goal_row = env.goal_row,\n",
    "    goal_col = env.goal_col\n",
    ")\n",
    "PlayOnce(network_fcnn, env, config)"
   ]
  },
  {
   "cell_type": "code",
   "execution_count": null,
   "id": "c3411d3b",
   "metadata": {},
   "outputs": [],
   "source": [
    "env = PathPlanningEnv(\n",
    "    grid = env.grid[2,:,:],\n",
    "    init_row = 1,\n",
    "    init_col = 9,\n",
    "    goal_row = env.goal_row,\n",
    "    goal_col = env.goal_col\n",
    ")\n",
    "PlayOnce(network_fcnn, env, config)"
   ]
  },
  {
   "cell_type": "code",
   "execution_count": null,
   "id": "dbd82cfe",
   "metadata": {},
   "outputs": [],
   "source": [
    "env = PathPlanningEnv(\n",
    "    grid = env.grid[2,:,:],\n",
    "    init_row = 0,\n",
    "    init_col = 5,\n",
    "    goal_row = env.goal_row,\n",
    "    goal_col = env.goal_col\n",
    ")\n",
    "PlayOnce(network_fcnn, env, config)"
   ]
  },
  {
   "cell_type": "code",
   "execution_count": null,
   "id": "1870fa3b",
   "metadata": {},
   "outputs": [],
   "source": [
    "env = PathPlanningEnv(\n",
    "    grid = env.grid[2,:,:],\n",
    "    init_row = 1,\n",
    "    init_col = 0,\n",
    "    goal_row = env.goal_row,\n",
    "    goal_col = env.goal_col\n",
    ")\n",
    "PlayOnce(network_fcnn, env, config)"
   ]
  },
  {
   "cell_type": "code",
   "execution_count": null,
   "id": "ee32853d",
   "metadata": {},
   "outputs": [],
   "source": [
    "VectorFieldPlot(network_fcnn, env, model_settings['width'], model_settings['height'])"
   ]
  },
  {
   "cell_type": "markdown",
   "id": "faf185cc",
   "metadata": {},
   "source": [
    "## Q-learning"
   ]
  },
  {
   "cell_type": "code",
   "execution_count": null,
   "id": "99bb698d",
   "metadata": {},
   "outputs": [],
   "source": [
    "model_settings = {\n",
    "    'height' : 10,\n",
    "    'width' : 10,\n",
    "    'obs_count' : 5,\n",
    "    'random_seed' : 42\n",
    "}\n",
    "\n",
    "env = PathPlanningEnv(**model_settings)\n",
    "env.display()\n",
    "print(env.distances)"
   ]
  },
  {
   "cell_type": "code",
   "execution_count": null,
   "id": "66d436ee",
   "metadata": {},
   "outputs": [],
   "source": [
    "input_dim = 3 * model_settings['height'] * model_settings['width'] + 4\n",
    "network_fcnn = FCNN(input_dim)"
   ]
  },
  {
   "cell_type": "code",
   "execution_count": null,
   "id": "c83fdd16",
   "metadata": {
    "tags": []
   },
   "outputs": [],
   "source": [
    "config = settings.Config(epsilon=0.9, epsilon_low = 0.1, epsilon_step = 0.05, max_play_length=500, epochs = 2000, gamma = 0.99)\n",
    "start_time = time.time()\n",
    "rewards, losses = TrainQlearning(network_fcnn, env, config)\n",
    "end_time = time.time()\n",
    "print('Training time: %d seconds' % (end_time - start_time))"
   ]
  },
  {
   "cell_type": "code",
   "execution_count": null,
   "id": "cac9ef59",
   "metadata": {},
   "outputs": [],
   "source": [
    "MovingAveragePlot(rewards, 100)"
   ]
  },
  {
   "cell_type": "code",
   "execution_count": null,
   "id": "71fed14a",
   "metadata": {},
   "outputs": [],
   "source": [
    "print(env.foot_prints)"
   ]
  },
  {
   "cell_type": "code",
   "execution_count": null,
   "id": "4fbb47f7",
   "metadata": {},
   "outputs": [],
   "source": [
    "PlayOnce(network_fcnn, env, config)"
   ]
  },
  {
   "cell_type": "code",
   "execution_count": null,
   "id": "bdd99960",
   "metadata": {},
   "outputs": [],
   "source": [
    "env = PathPlanningEnv(\n",
    "    grid = env.grid[2,:,:],\n",
    "    init_row = 4,\n",
    "    init_col = 9,\n",
    "    goal_row = env.goal_row,\n",
    "    goal_col = env.goal_col\n",
    ")\n",
    "PlayOnce(network_fcnn, env, config)"
   ]
  },
  {
   "cell_type": "code",
   "execution_count": null,
   "id": "430850f6",
   "metadata": {
    "tags": []
   },
   "outputs": [],
   "source": [
    "env = PathPlanningEnv(\n",
    "    grid = env.grid[2,:,:],\n",
    "    init_row = 1,\n",
    "    init_col = 9,\n",
    "    goal_row = env.goal_row,\n",
    "    goal_col = env.goal_col\n",
    ")\n",
    "PlayOnce(network_fcnn, env, config)"
   ]
  },
  {
   "cell_type": "code",
   "execution_count": null,
   "id": "1e187096",
   "metadata": {
    "tags": []
   },
   "outputs": [],
   "source": [
    "env = PathPlanningEnv(\n",
    "    grid = env.grid[2,:,:],\n",
    "    init_row = 0,\n",
    "    init_col = 5,\n",
    "    goal_row = env.goal_row,\n",
    "    goal_col = env.goal_col\n",
    ")\n",
    "PlayOnce(network_fcnn, env, config)"
   ]
  },
  {
   "cell_type": "code",
   "execution_count": null,
   "id": "22809ccf",
   "metadata": {
    "tags": []
   },
   "outputs": [],
   "source": [
    "env = PathPlanningEnv(\n",
    "    grid = env.grid[2,:,:],\n",
    "    init_row = 1,\n",
    "    init_col = 0,\n",
    "    goal_row = env.goal_row,\n",
    "    goal_col = env.goal_col\n",
    ")\n",
    "PlayOnce(network_fcnn, env, config)"
   ]
  },
  {
   "cell_type": "code",
   "execution_count": null,
   "id": "94d01603",
   "metadata": {},
   "outputs": [],
   "source": [
    "VectorFieldPlot(network_fcnn, env, model_settings['width'], model_settings['height'])"
   ]
  },
  {
   "cell_type": "markdown",
   "id": "d0d4d45e",
   "metadata": {},
   "source": [
    "## Q-learning with CNN"
   ]
  },
  {
   "cell_type": "code",
   "execution_count": null,
   "id": "2ef1a9f4",
   "metadata": {},
   "outputs": [],
   "source": [
    "network_cnn = Q_Network(\n",
    "    BatchSize = 1,\n",
    "    MapHeight = model_settings['height'],\n",
    "    MapWidth = model_settings['width'],\n",
    "    Covn1OutChan = 8,\n",
    "    Conv1Kernel = 3,\n",
    "    Covn2OutChan = 8,\n",
    "    Conv2Kernel = 3,\n",
    "    HiddenSize = 64\n",
    ")"
   ]
  },
  {
   "cell_type": "code",
   "execution_count": null,
   "id": "87fdbac0",
   "metadata": {},
   "outputs": [],
   "source": [
    "config = settings.Config(epsilon=0.9, epsilon_low = 0.1, epsilon_step = 0.05, max_play_length=500, epochs = 2000, gamma = 0.99)\n",
    "start_time = time.time()\n",
    "rewards, losses = TrainQlearning(network_cnn, env, config)\n",
    "end_time = time.time()\n",
    "print('Training time: %d seconds' % (end_time - start_time))"
   ]
  },
  {
   "cell_type": "code",
   "execution_count": null,
   "id": "25fe865f",
   "metadata": {},
   "outputs": [],
   "source": [
    "MovingAveragePlot(rewards, 100)"
   ]
  },
  {
   "cell_type": "code",
   "execution_count": null,
   "id": "928e4189",
   "metadata": {},
   "outputs": [],
   "source": [
    "VectorFieldPlot(network_cnn, env, model_settings['width'], model_settings['height'])"
   ]
  },
  {
   "cell_type": "markdown",
   "id": "2700b9d7",
   "metadata": {},
   "source": [
    "Check rewards"
   ]
  },
  {
   "cell_type": "code",
   "execution_count": null,
   "id": "1fff4d04",
   "metadata": {},
   "outputs": [],
   "source": [
    "import numpy as np\n",
    "for i in range(10):\n",
    "    for j in range(10):\n",
    "        old_obs = env.grid[2,:,:]\n",
    "        goal_row = env.goal_row\n",
    "        goal_col = env.goal_col\n",
    "        env._init_from_grid(old_obs, i, j, goal_row, goal_col)\n",
    "\n",
    "        if env.grid[2, i, j] == 0:\n",
    "            preds = []\n",
    "            state = env.grid.clone().detach()\n",
    "            state = state.view(1, *state.shape)\n",
    "            for action in env.actions:\n",
    "                action = action.view(1, *action.shape)\n",
    "                pred = network_fcnn(state, action)\n",
    "                preds.append(pred)\n",
    "\n",
    "            print(\"{:.2f}\".format(max(preds).item()), end = \" \")\n",
    "        else:\n",
    "            print(\"xxxx\", end = \" \")\n",
    "\n",
    "    print(\" \")"
   ]
  },
  {
   "cell_type": "code",
   "execution_count": null,
   "id": "8e791230",
   "metadata": {},
   "outputs": [],
   "source": []
  }
 ],
 "metadata": {
  "kernelspec": {
   "display_name": "Python 3",
   "language": "python",
   "name": "python3"
  },
  "language_info": {
   "codemirror_mode": {
    "name": "ipython",
    "version": 3
   },
   "file_extension": ".py",
   "mimetype": "text/x-python",
   "name": "python",
   "nbconvert_exporter": "python",
   "pygments_lexer": "ipython3",
   "version": "3.8.8"
  }
 },
 "nbformat": 4,
 "nbformat_minor": 5
}
