{
 "cells": [
  {
   "cell_type": "code",
   "execution_count": null,
   "metadata": {},
   "outputs": [],
   "source": [
    "from PathPlanningEnv import PathPlanningEnv\n",
    "from FCNN import FCNN\n",
    "from run import TrainMemorize, TrainQlearning, PlayOnce\n",
    "from utility import MovingAveragePlot\n",
    "import settings\n",
    "from matplotlib import pyplot as plt"
   ]
  },
  {
   "cell_type": "code",
   "execution_count": null,
   "metadata": {},
   "outputs": [],
   "source": [
    "model_settings = {\n",
    "    'height' : 10,\n",
    "    'width' : 10,\n",
    "    'obs_count' : 5,\n",
    "    'random_seed' : 42\n",
    "}\n",
    "\n",
    "env = PathPlanningEnv(**model_settings)\n",
    "env.display()\n",
    "print(env.distances)"
   ]
  },
  {
   "cell_type": "code",
   "execution_count": null,
   "metadata": {},
   "outputs": [],
   "source": [
    "input_dim = 3 * model_settings['height'] * model_settings['width'] + 4\n",
    "network_fcnn = FCNN(input_dim)"
   ]
  },
  {
   "cell_type": "code",
   "execution_count": null,
   "metadata": {},
   "outputs": [],
   "source": [
    "config = settings.Config()\n",
    "rewards, losses = TrainMemorize(network_fcnn, env, config)"
   ]
  },
  {
   "cell_type": "code",
   "execution_count": null,
   "metadata": {},
   "outputs": [],
   "source": [
    "MovingAveragePlot(rewards, 100)"
   ]
  },
  {
   "cell_type": "code",
   "execution_count": null,
   "metadata": {},
   "outputs": [],
   "source": [
    "print(env.foot_prints)"
   ]
  },
  {
   "cell_type": "code",
   "execution_count": null,
   "metadata": {},
   "outputs": [],
   "source": [
    "PlayOnce(network_fcnn, env, config)"
   ]
  },
  {
   "cell_type": "code",
   "execution_count": null,
   "metadata": {},
   "outputs": [],
   "source": [
    "env = PathPlanningEnv(\n",
    "    grid = env.grid[2,:,:],\n",
    "    init_row = 4,\n",
    "    init_col = 9,\n",
    "    goal_row = env.goal_row,\n",
    "    goal_col = env.goal_col\n",
    ")\n",
    "PlayOnce(network_fcnn, env, config)"
   ]
  },
  {
   "cell_type": "code",
   "execution_count": null,
   "metadata": {},
   "outputs": [],
   "source": [
    "env = PathPlanningEnv(\n",
    "    grid = env.grid[2,:,:],\n",
    "    init_row = 1,\n",
    "    init_col = 9,\n",
    "    goal_row = env.goal_row,\n",
    "    goal_col = env.goal_col\n",
    ")\n",
    "PlayOnce(network_fcnn, env, config)"
   ]
  },
  {
   "cell_type": "code",
   "execution_count": null,
   "metadata": {},
   "outputs": [],
   "source": [
    "env = PathPlanningEnv(\n",
    "    grid = env.grid[2,:,:],\n",
    "    init_row = 0,\n",
    "    init_col = 5,\n",
    "    goal_row = env.goal_row,\n",
    "    goal_col = env.goal_col\n",
    ")\n",
    "PlayOnce(network_fcnn, env, config)"
   ]
  },
  {
   "cell_type": "code",
   "execution_count": null,
   "metadata": {},
   "outputs": [],
   "source": [
    "env = PathPlanningEnv(\n",
    "    grid = env.grid[2,:,:],\n",
    "    init_row = 1,\n",
    "    init_col = 0,\n",
    "    goal_row = env.goal_row,\n",
    "    goal_col = env.goal_col\n",
    ")\n",
    "PlayOnce(network_fcnn, env, config)"
   ]
  },
  {
   "cell_type": "markdown",
   "metadata": {},
   "source": [
    "## Q-learning"
   ]
  },
  {
   "cell_type": "code",
   "execution_count": null,
   "metadata": {},
   "outputs": [],
   "source": [
    "model_settings = {\n",
    "    'height' : 10,\n",
    "    'width' : 10,\n",
    "    'obs_count' : 5,\n",
    "    'random_seed' : 42\n",
    "}\n",
    "\n",
    "env = PathPlanningEnv(**model_settings)\n",
    "env.display()\n",
    "print(env.distances)"
   ]
  },
  {
   "cell_type": "code",
   "execution_count": null,
   "metadata": {},
   "outputs": [],
   "source": [
    "input_dim = 3 * model_settings['height'] * model_settings['width'] + 4\n",
    "network_fcnn = FCNN(input_dim)"
   ]
  },
  {
   "cell_type": "code",
   "execution_count": null,
   "metadata": {},
   "outputs": [],
   "source": [
    "config = settings.Config(epsilon=0.9, epsilon_low = 0.1, epsilon_step = 0.05, max_play_length=500, epochs = 2000, gamma = 0.99)\n",
    "rewards, losses = TrainQlearning(network_fcnn, env, config)"
   ]
  },
  {
   "cell_type": "code",
   "execution_count": null,
   "metadata": {},
   "outputs": [],
   "source": [
    "MovingAveragePlot(rewards, 100)"
   ]
  },
  {
   "cell_type": "code",
   "execution_count": null,
   "metadata": {},
   "outputs": [],
   "source": [
    "print(env.foot_prints)"
   ]
  },
  {
   "cell_type": "code",
   "execution_count": null,
   "metadata": {},
   "outputs": [],
   "source": [
    "PlayOnce(network_fcnn, env, config)"
   ]
  },
  {
   "cell_type": "code",
   "execution_count": null,
   "metadata": {},
   "outputs": [],
   "source": [
    "env = PathPlanningEnv(\n",
    "    grid = env.grid[2,:,:],\n",
    "    init_row = 4,\n",
    "    init_col = 9,\n",
    "    goal_row = env.goal_row,\n",
    "    goal_col = env.goal_col\n",
    ")\n",
    "PlayOnce(network_fcnn, env, config)"
   ]
  },
  {
   "cell_type": "code",
   "execution_count": null,
   "metadata": {
    "tags": []
   },
   "outputs": [],
   "source": [
    "env = PathPlanningEnv(\n",
    "    grid = env.grid[2,:,:],\n",
    "    init_row = 1,\n",
    "    init_col = 9,\n",
    "    goal_row = env.goal_row,\n",
    "    goal_col = env.goal_col\n",
    ")\n",
    "PlayOnce(network_fcnn, env, config)"
   ]
  },
  {
   "cell_type": "code",
   "execution_count": null,
   "metadata": {
    "tags": []
   },
   "outputs": [],
   "source": [
    "env = PathPlanningEnv(\n",
    "    grid = env.grid[2,:,:],\n",
    "    init_row = 0,\n",
    "    init_col = 5,\n",
    "    goal_row = env.goal_row,\n",
    "    goal_col = env.goal_col\n",
    ")\n",
    "PlayOnce(network_fcnn, env, config)"
   ]
  },
  {
   "cell_type": "code",
   "execution_count": null,
   "metadata": {
    "tags": []
   },
   "outputs": [],
   "source": [
    "env = PathPlanningEnv(\n",
    "    grid = env.grid[2,:,:],\n",
    "    init_row = 1,\n",
    "    init_col = 0,\n",
    "    goal_row = env.goal_row,\n",
    "    goal_col = env.goal_col\n",
    ")\n",
    "PlayOnce(network_fcnn, env, config)"
   ]
  },
  {
   "cell_type": "markdown",
   "metadata": {},
   "source": [
    "Check rewards"
   ]
  },
  {
   "cell_type": "code",
   "execution_count": null,
   "metadata": {},
   "outputs": [],
   "source": [
    "import numpy as np\n",
    "for i in range(10):\n",
    "    for j in range(10):\n",
    "        old_obs = env.grid[2,:,:]\n",
    "        goal_row = env.goal_row\n",
    "        goal_col = env.goal_col\n",
    "        env._init_from_grid(old_obs, i, j, goal_row, goal_col)\n",
    "\n",
    "        if env.grid[2, i, j] == 0:\n",
    "            preds = []\n",
    "            state = env.grid\n",
    "            for action in env.actions:\n",
    "                pred = network_fcnn(state, action)\n",
    "                preds.append(pred)\n",
    "\n",
    "            print(\"{:.2f}\".format(max(preds).item()), end = \" \")\n",
    "        else:\n",
    "            print(\"xxxx\", end = \" \")\n",
    "\n",
    "    print(\" \")"
   ]
  },
  {
   "cell_type": "code",
   "execution_count": null,
   "metadata": {},
   "outputs": [],
   "source": [
    "def PlotVectorField(env: PathPlanningEnv, width, height):\n",
    "\n",
    "    fig = plt.subplots(figsize=(width, height))\n",
    "    ax = plt.axes(xlim=(-1, width - 1 + 1), ylim=(-1, height - 1 + 1))\n",
    "    tgtPoint, = ax.plot(env.goal_col, height - 1 - env.goal_row, linestyle='', markersize=20, marker='o', color=(0.5, 0.5, 1.0, 0.75))\n",
    "\n",
    "    # obstacles\n",
    "    for i in range(height):\n",
    "        for j in range(width):\n",
    "            if env.grid[2, i, j] == 1:\n",
    "                obs_row = height - 1 - i\n",
    "                obs_col = j\n",
    "                obsstaclePoint, = ax.plot(obs_col, obs_row, linestyle='', markersize=15, marker='x', markeredgewidth=2, color='r')\n",
    "\n",
    "    # vector field\n",
    "    for i in range(height):\n",
    "        for j in range(width):\n",
    "            old_obs = env.grid[2,:,:]\n",
    "            goal_row = env.goal_row\n",
    "            goal_col = env.goal_col\n",
    "            env._init_from_grid(old_obs, i, j, goal_row, goal_col)\n",
    "            state = env.grid\n",
    "            if env.grid[2, i, j] == 0:\n",
    "                state = env.grid\n",
    "                preds = []\n",
    "                state = env.grid\n",
    "                for action in env.actions:\n",
    "                    pred = network_fcnn(state, action)\n",
    "                    pred_list = pred.detach().numpy().tolist()\n",
    "                    preds.append(pred_list)\n",
    "                max_index = preds.index(max(preds))\n",
    "                max_reward = max(preds)\n",
    "\n",
    "                x = j  # x coordinates\n",
    "                y = height - 1 - i  # y coordinates\n",
    "                if max_index == 0: # go up\n",
    "                    u = [0]  # x component of SVF\n",
    "                    v = max_reward  # y component of SVF\n",
    "                elif max_index == 1: # go down\n",
    "                    u = [0]  \n",
    "                    v= [i * (-1) for i in max_reward]\n",
    "                elif max_index == 2: # go left\n",
    "                    u = [i * (-1) for i in max_reward]\n",
    "                    v = [0]  \n",
    "                else: # go right\n",
    "                    u = max_reward  # \n",
    "                    v = [0]  \n",
    "                Q1 = ax.quiver(x, y, u, v, color=(0, 0.2, 0), scale_units='xy', scale=2, headwidth=0.5);\n",
    "\n",
    "    plt.xticks([]);\n",
    "    plt.yticks([]);"
   ]
  },
  {
   "cell_type": "code",
   "execution_count": null,
   "metadata": {},
   "outputs": [],
   "source": [
    "PlotVectorField(env, model_settings['width'], model_settings['height'])"
   ]
  }
 ],
 "metadata": {
  "kernelspec": {
   "display_name": "Python 3",
   "language": "python",
   "name": "python3"
  },
  "language_info": {
   "codemirror_mode": {
    "name": "ipython",
    "version": 3
   },
   "file_extension": ".py",
   "mimetype": "text/x-python",
   "name": "python",
   "nbconvert_exporter": "python",
   "pygments_lexer": "ipython3",
   "version": "3.8.5"
  }
 },
 "nbformat": 4,
 "nbformat_minor": 5
}
