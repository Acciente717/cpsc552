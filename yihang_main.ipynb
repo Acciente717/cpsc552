{
 "cells": [
  {
   "cell_type": "code",
   "execution_count": null,
   "metadata": {},
   "outputs": [],
   "source": [
    "from PathPlanningEnv import PathPlanningEnv\n",
    "from FCNN import FCNN\n",
    "from run import TrainMemorize, TrainQlearning, PlayOnce\n",
    "from utility import MovingAveragePlot\n",
    "import settings"
   ]
  },
  {
   "cell_type": "code",
   "execution_count": null,
   "metadata": {},
   "outputs": [],
   "source": [
    "model_settings = {\n",
    "    'height' : 10,\n",
    "    'width' : 10,\n",
    "    'obs_count' : 5,\n",
    "    'random_seed' : 42\n",
    "}\n",
    "\n",
    "env = PathPlanningEnv(**model_settings)\n",
    "env.display()\n",
    "print(env.distances)"
   ]
  },
  {
   "cell_type": "code",
   "execution_count": null,
   "metadata": {},
   "outputs": [],
   "source": [
    "input_dim = 3 * model_settings['height'] * model_settings['width'] + 4\n",
    "network_fcnn = FCNN(input_dim)"
   ]
  },
  {
   "cell_type": "code",
   "execution_count": null,
   "metadata": {},
   "outputs": [],
   "source": [
    "config = settings.Config()\n",
    "rewards, losses = TrainMemorize(network_fcnn, env, config)"
   ]
  },
  {
   "cell_type": "code",
   "execution_count": null,
   "metadata": {},
   "outputs": [],
   "source": [
    "MovingAveragePlot(rewards, 100)"
   ]
  },
  {
   "cell_type": "code",
   "execution_count": null,
   "metadata": {},
   "outputs": [],
   "source": [
    "print(env.foot_prints)"
   ]
  },
  {
   "cell_type": "code",
   "execution_count": null,
   "metadata": {},
   "outputs": [],
   "source": [
    "PlayOnce(network_fcnn, env, config)"
   ]
  },
  {
   "cell_type": "code",
   "execution_count": null,
   "metadata": {},
   "outputs": [],
   "source": [
    "env = PathPlanningEnv(\n",
    "    grid = env.grid[2,:,:],\n",
    "    init_row = 4,\n",
    "    init_col = 9,\n",
    "    goal_row = env.goal_row,\n",
    "    goal_col = env.goal_col\n",
    ")\n",
    "PlayOnce(network_fcnn, env, config)"
   ]
  },
  {
   "cell_type": "code",
   "execution_count": null,
   "metadata": {},
   "outputs": [],
   "source": [
    "env = PathPlanningEnv(\n",
    "    grid = env.grid[2,:,:],\n",
    "    init_row = 1,\n",
    "    init_col = 9,\n",
    "    goal_row = env.goal_row,\n",
    "    goal_col = env.goal_col\n",
    ")\n",
    "PlayOnce(network_fcnn, env, config)"
   ]
  },
  {
   "cell_type": "code",
   "execution_count": null,
   "metadata": {},
   "outputs": [],
   "source": [
    "env = PathPlanningEnv(\n",
    "    grid = env.grid[2,:,:],\n",
    "    init_row = 0,\n",
    "    init_col = 5,\n",
    "    goal_row = env.goal_row,\n",
    "    goal_col = env.goal_col\n",
    ")\n",
    "PlayOnce(network_fcnn, env, config)"
   ]
  },
  {
   "cell_type": "code",
   "execution_count": null,
   "metadata": {},
   "outputs": [],
   "source": [
    "env = PathPlanningEnv(\n",
    "    grid = env.grid[2,:,:],\n",
    "    init_row = 1,\n",
    "    init_col = 0,\n",
    "    goal_row = env.goal_row,\n",
    "    goal_col = env.goal_col\n",
    ")\n",
    "PlayOnce(network_fcnn, env, config)"
   ]
  },
  {
   "cell_type": "markdown",
   "metadata": {},
   "source": [
    "## Q-learning"
   ]
  },
  {
   "cell_type": "code",
   "execution_count": null,
   "metadata": {},
   "outputs": [],
   "source": [
    "model_settings = {\n",
    "    'height' : 10,\n",
    "    'width' : 10,\n",
    "    'obs_count' : 5,\n",
    "    'random_seed' : 42\n",
    "}\n",
    "\n",
    "env = PathPlanningEnv(**model_settings)\n",
    "env.display()\n",
    "print(env.distances)"
   ]
  },
  {
   "cell_type": "code",
   "execution_count": null,
   "metadata": {},
   "outputs": [],
   "source": [
    "input_dim = 3 * model_settings['height'] * model_settings['width'] + 4\n",
    "network_fcnn = FCNN(input_dim)"
   ]
  },
  {
   "cell_type": "code",
   "execution_count": null,
   "metadata": {},
   "outputs": [],
   "source": [
    "config = settings.Config(epsilon=0.9, epsilon_low = 0.1, epsilon_step = 0.05, max_play_length=500, epochs = 2000, gamma = 0.99)\n",
    "rewards, losses = TrainQlearning(network_fcnn, env, config)"
   ]
  },
  {
   "cell_type": "code",
   "execution_count": null,
   "metadata": {},
   "outputs": [],
   "source": [
    "MovingAveragePlot(rewards, 100)"
   ]
  },
  {
   "cell_type": "code",
   "execution_count": null,
   "metadata": {},
   "outputs": [],
   "source": [
    "print(env.foot_prints)"
   ]
  },
  {
   "cell_type": "code",
   "execution_count": null,
   "metadata": {},
   "outputs": [],
   "source": [
    "PlayOnce(network_fcnn, env, config)"
   ]
  },
  {
   "cell_type": "code",
   "execution_count": null,
   "metadata": {},
   "outputs": [],
   "source": [
    "env = PathPlanningEnv(\n",
    "    grid = env.grid[2,:,:],\n",
    "    init_row = 4,\n",
    "    init_col = 9,\n",
    "    goal_row = env.goal_row,\n",
    "    goal_col = env.goal_col\n",
    ")\n",
    "PlayOnce(network_fcnn, env, config)"
   ]
  },
  {
   "cell_type": "code",
   "execution_count": null,
   "metadata": {
    "tags": []
   },
   "outputs": [],
   "source": [
    "env = PathPlanningEnv(\n",
    "    grid = env.grid[2,:,:],\n",
    "    init_row = 1,\n",
    "    init_col = 9,\n",
    "    goal_row = env.goal_row,\n",
    "    goal_col = env.goal_col\n",
    ")\n",
    "PlayOnce(network_fcnn, env, config)"
   ]
  },
  {
   "cell_type": "code",
   "execution_count": null,
   "metadata": {
    "tags": []
   },
   "outputs": [],
   "source": [
    "env = PathPlanningEnv(\n",
    "    grid = env.grid[2,:,:],\n",
    "    init_row = 0,\n",
    "    init_col = 5,\n",
    "    goal_row = env.goal_row,\n",
    "    goal_col = env.goal_col\n",
    ")\n",
    "PlayOnce(network_fcnn, env, config)"
   ]
  },
  {
   "cell_type": "code",
   "execution_count": null,
   "metadata": {
    "tags": []
   },
   "outputs": [],
   "source": [
    "env = PathPlanningEnv(\n",
    "    grid = env.grid[2,:,:],\n",
    "    init_row = 1,\n",
    "    init_col = 0,\n",
    "    goal_row = env.goal_row,\n",
    "    goal_col = env.goal_col\n",
    ")\n",
    "PlayOnce(network_fcnn, env, config)"
   ]
  },
  {
   "source": [
    "Check rewards"
   ],
   "cell_type": "markdown",
   "metadata": {}
  },
  {
   "cell_type": "code",
   "execution_count": null,
   "metadata": {},
   "outputs": [],
   "source": [
    "import numpy as np\n",
    "for i in range(5):\n",
    "    for j in range(10):\n",
    "        old_obs = env.grid[2,:,:]\n",
    "        goal_row = env.goal_row\n",
    "        goal_col = env.goal_col\n",
    "        env._init_from_grid(old_obs, i, j, goal_row, goal_col)\n",
    "\n",
    "        if env.grid[2, i, j] == 0:\n",
    "            preds = []\n",
    "            state = env.grid\n",
    "            for action in env.actions:\n",
    "                pred = network_fcnn(state, action)\n",
    "                preds.append(pred)\n",
    "\n",
    "            print(\"{:.2f}\".format(max(preds).item()), end = \" \")\n",
    "        else:\n",
    "            print(\"xxxx\", end = \" \")\n",
    "\n",
    "    print(\" \")"
   ]
  },
  {
   "cell_type": "code",
   "execution_count": null,
   "metadata": {},
   "outputs": [],
   "source": []
  }
 ],
 "metadata": {
  "kernelspec": {
   "name": "python385jvsc74a57bd02e918aaa81d99c652401bdd1a0c185581595fb477ac919641bd65261b5d7782a",
   "display_name": "Python 3.8.5 64-bit ('base': conda)"
  },
  "language_info": {
   "codemirror_mode": {
    "name": "ipython",
    "version": 3
   },
   "file_extension": ".py",
   "mimetype": "text/x-python",
   "name": "python",
   "nbconvert_exporter": "python",
   "pygments_lexer": "ipython3",
   "version": "3.8.5"
  }
 },
 "nbformat": 4,
 "nbformat_minor": 5
}