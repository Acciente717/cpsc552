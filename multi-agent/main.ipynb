{
 "cells": [
  {
   "cell_type": "code",
   "execution_count": null,
   "id": "367e67b1",
   "metadata": {},
   "outputs": [],
   "source": [
    "from MultiActorEnv import MultiActorEnv\n",
    "from FCNN import FCNN\n",
    "\n",
    "import settings\n",
    "from utility import MovingAveragePlot, RoutePlot, get_optimal_movs, PlayOnce\n",
    "from run import init_seed, init_weights, TrainQlearning"
   ]
  },
  {
   "cell_type": "code",
   "execution_count": null,
   "id": "63010082",
   "metadata": {},
   "outputs": [],
   "source": [
    "model_settings = {\n",
    "    'actor_number' : 4,\n",
    "    'height' : 10,\n",
    "    'width' : 10,\n",
    "    'obs_count' : 5,\n",
    "    'random_seed' : 100\n",
    "}"
   ]
  },
  {
   "cell_type": "code",
   "execution_count": null,
   "id": "03bce159",
   "metadata": {
    "tags": []
   },
   "outputs": [],
   "source": [
    "env = MultiActorEnv(**model_settings)\n",
    "print(env.grid)\n",
    "env.display()"
   ]
  },
  {
   "cell_type": "code",
   "execution_count": null,
   "id": "e3d651e1",
   "metadata": {},
   "outputs": [],
   "source": [
    "input_dim = 4 * model_settings['height'] * model_settings['width'] + len(env.actions)\n",
    "model = FCNN(input_dim)\n",
    "config = settings.Config(epsilon=0.5, \n",
    "                         epsilon_low=0.1, \n",
    "                         epsilon_step=0.05, \n",
    "                         max_play_length=50,\n",
    "                         epochs=1000, \n",
    "                         gamma=0.99)"
   ]
  },
  {
   "cell_type": "code",
   "execution_count": null,
   "id": "0eeed0a0",
   "metadata": {},
   "outputs": [],
   "source": [
    "rewards = TrainQlearning(model, env, config)"
   ]
  },
  {
   "cell_type": "code",
   "execution_count": null,
   "id": "4cbcb6bd",
   "metadata": {},
   "outputs": [],
   "source": [
    "MovingAveragePlot(rewards, 100)"
   ]
  },
  {
   "cell_type": "code",
   "execution_count": null,
   "id": "1f24a843",
   "metadata": {},
   "outputs": [],
   "source": [
    "import numpy as np\n",
    "import random\n",
    "env.reset()\n",
    "print(env.grid)\n",
    "env.display()\n",
    "print(env.get_actor_number())\n",
    "print(\"-------------------------------------------------------------\")\n",
    "counter = 0\n",
    "max_play_length = 50\n",
    "model.eval()\n",
    "while (counter <= max_play_length and env.get_actor_number() > 0):\n",
    "    # find Q(s_{t},a) for all actions\n",
    "    \n",
    "    counter += 1\n",
    "    actor_number = env.get_actor_number()\n",
    "    if (actor_number==0): break\n",
    "    \n",
    "    _, choices = get_optimal_movs(env, model)\n",
    "    print(choices)\n",
    "    env.step(choices)\n",
    "    print(env.grid)\n",
    "    env.display()\n",
    "    env.remove_dones()\n",
    "    print(env.get_actor_number())\n",
    "    print(\"-------------------------------------------------------------\")"
   ]
  },
  {
   "cell_type": "code",
   "execution_count": null,
   "id": "d1369590",
   "metadata": {},
   "outputs": [],
   "source": [
    "PlayOnce(env, model, config)"
   ]
  },
  {
   "cell_type": "code",
   "execution_count": null,
   "id": "ed43b3f3",
   "metadata": {},
   "outputs": [],
   "source": []
  }
 ],
 "metadata": {
  "kernelspec": {
   "display_name": "Python 3",
   "language": "python",
   "name": "python3"
  },
  "language_info": {
   "codemirror_mode": {
    "name": "ipython",
    "version": 3
   },
   "file_extension": ".py",
   "mimetype": "text/x-python",
   "name": "python",
   "nbconvert_exporter": "python",
   "pygments_lexer": "ipython3",
   "version": "3.8.8"
  }
 },
 "nbformat": 4,
 "nbformat_minor": 5
}
