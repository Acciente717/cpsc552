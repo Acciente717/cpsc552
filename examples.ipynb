{
 "cells": [
  {
   "cell_type": "markdown",
   "metadata": {},
   "source": [
    "# Example Codes\n",
    "\n",
    "This notebook contains example code of each module. Before committing this notebook, make sure all the output is cleared."
   ]
  },
  {
   "cell_type": "markdown",
   "metadata": {},
   "source": [
    "### A Star Search Algorithm"
   ]
  },
  {
   "cell_type": "code",
   "execution_count": null,
   "metadata": {},
   "outputs": [],
   "source": [
    "from AStar import AStar"
   ]
  },
  {
   "cell_type": "code",
   "execution_count": null,
   "metadata": {},
   "outputs": [],
   "source": [
    "# A 2D matrix representing the map. 1 is obstacle. 0 is free block.\n",
    "grid = [\n",
    "    [0,1,1,0,0,0],\n",
    "    [0,1,0,0,1,0],\n",
    "    [0,1,1,0,1,0],\n",
    "    [0,0,0,0,1,0],\n",
    "    [1,1,1,1,1,0],\n",
    "    [1,1,1,1,1,0]\n",
    "]\n",
    "\n",
    "# goal is the lower right corner\n",
    "goal = (5, 5)"
   ]
  },
  {
   "cell_type": "code",
   "execution_count": null,
   "metadata": {},
   "outputs": [],
   "source": [
    "# Forbidden diagonal move.\n",
    "planner = AStar(grid, goal, False)\n",
    "\n",
    "# Find a path starting from the upper left corner.\n",
    "path = planner.plan(0, 0)\n",
    "\n",
    "print(path)\n",
    "len(path)"
   ]
  },
  {
   "cell_type": "code",
   "execution_count": null,
   "metadata": {},
   "outputs": [],
   "source": [
    "# Allow diagonal move.\n",
    "planner = AStar(grid, goal, True)\n",
    "\n",
    "# Find a path starting from the upper left corner.\n",
    "path = planner.plan(0, 0)\n",
    "\n",
    "print(path)"
   ]
  },
  {
   "cell_type": "code",
   "execution_count": null,
   "metadata": {},
   "outputs": [],
   "source": []
  }
 ],
 "metadata": {
  "kernelspec": {
   "display_name": "Python 3",
   "language": "python",
   "name": "python3"
  },
  "language_info": {
   "codemirror_mode": {
    "name": "ipython",
    "version": 3
   },
   "file_extension": ".py",
   "mimetype": "text/x-python",
   "name": "python",
   "nbconvert_exporter": "python",
   "pygments_lexer": "ipython3",
   "version": "3.7.3"
  }
 },
 "nbformat": 4,
 "nbformat_minor": 4
}
